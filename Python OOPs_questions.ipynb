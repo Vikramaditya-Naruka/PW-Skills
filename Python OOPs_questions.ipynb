{
 "cells": [
  {
   "cell_type": "markdown",
   "id": "a7458539-1600-4d31-8451-e7401f452970",
   "metadata": {},
   "source": [
    "### 1. What is Object-Oriented Programming (OOP)?\n",
    "OOP is a programming style where we model everything as objects. It helps in structuring complex code using classes, objects, and principles like inheritance, encapsulation, and polymorphism."
   ]
  },
  {
   "cell_type": "markdown",
   "id": "a8d1aca5-1f90-4259-8e4f-b0efd8ba2de7",
   "metadata": {},
   "source": [
    "### 2. What is a class in OOP?\n",
    "A class is a blueprint for creating objects. It defines properties (variables) and methods (functions) that the object will have."
   ]
  },
  {
   "cell_type": "code",
   "execution_count": 1,
   "id": "1be2df3e-5baf-44ff-a9c0-7c7e2e3608d3",
   "metadata": {},
   "outputs": [],
   "source": [
    "class Car:\n",
    "    def start(self):\n",
    "        print(\"Car started\")\n"
   ]
  },
  {
   "cell_type": "markdown",
   "id": "3b2a71e7-73c7-43d1-b79a-1b0e8bf629fb",
   "metadata": {},
   "source": [
    "### 3. What is an object in OOP?\n",
    "An object is an instance of a class. It holds actual data and can use the class's methods."
   ]
  },
  {
   "cell_type": "code",
   "execution_count": 2,
   "id": "fc7acef5-1a27-4e75-a066-763fec876e59",
   "metadata": {},
   "outputs": [
    {
     "name": "stdout",
     "output_type": "stream",
     "text": [
      "Car started\n"
     ]
    }
   ],
   "source": [
    "my_car = Car()  # object of class Car\n",
    "my_car.start()\n"
   ]
  },
  {
   "cell_type": "markdown",
   "id": "21ade61f-0085-4667-8d6d-de9893f25d7a",
   "metadata": {},
   "source": [
    "### 4. Difference between Abstraction and Encapsulation:\n",
    "\n",
    "Abstraction hides complex logic and shows only necessary parts (using methods or abstract classes).\n",
    "\n",
    "Encapsulation wraps data and code together and restricts direct access (e.g., using private variables).\n",
    "\n"
   ]
  },
  {
   "cell_type": "markdown",
   "id": "12175ade-84f7-4a8a-9402-3b9468a7e06f",
   "metadata": {},
   "source": [
    "### 5. What are dunder methods in Python?\n",
    "\n",
    "\n"
   ]
  },
  {
   "cell_type": "code",
   "execution_count": 3,
   "id": "94eb1e3d-01b6-473f-8e36-2f38bfde0b58",
   "metadata": {},
   "outputs": [],
   "source": [
    "#Dunder (double underscore) methods like __init__, __str__, __len__ are special built-in methods used to define how objects behave."
   ]
  },
  {
   "cell_type": "markdown",
   "id": "8fd4b44d-6895-4070-b08e-35ce03cf5af5",
   "metadata": {},
   "source": [
    "### 6. Explain the concept of Inheritance in OOP:\n",
    "Inheritance allows a class to use the properties/methods of another class."
   ]
  },
  {
   "cell_type": "code",
   "execution_count": 8,
   "id": "8c690b45-ca10-42de-8fd7-471bcb2b9008",
   "metadata": {},
   "outputs": [],
   "source": [
    "class Animal:\n",
    "    def speak(self):\n",
    "        print(\"Animal speaks\")\n",
    "\n",
    "class Dog(Animal):\n",
    "    pass\n"
   ]
  },
  {
   "cell_type": "markdown",
   "id": "ca97d29c-053c-4539-994a-54ff3bed7017",
   "metadata": {},
   "source": [
    "### 7. What is Polymorphism in OOP?\n",
    "Polymorphism allows methods to behave differently depending on the object."
   ]
  },
  {
   "cell_type": "code",
   "execution_count": 10,
   "id": "c3bf8b4f-9ff4-4ff6-9f36-fd407496e183",
   "metadata": {},
   "outputs": [
    {
     "name": "stdout",
     "output_type": "stream",
     "text": [
      "Animal speaks\n"
     ]
    }
   ],
   "source": [
    "for animal in [Dog()]:\n",
    "    animal.speak()  # same method, different output\n"
   ]
  },
  {
   "cell_type": "markdown",
   "id": "c6e06460-d395-4868-b491-fa415b42ee93",
   "metadata": {},
   "source": [
    "### 8. How is Encapsulation achieved in Python?\n",
    "Using private/protected variables and getter/setter methods."
   ]
  },
  {
   "cell_type": "code",
   "execution_count": 11,
   "id": "443a68f2-3d15-40ff-9002-1cd25f68be4b",
   "metadata": {},
   "outputs": [],
   "source": [
    "class Person:\n",
    "    def __init__(self):\n",
    "        self.__age = 25  # private variable\n"
   ]
  },
  {
   "cell_type": "markdown",
   "id": "36c284a5-28d4-4cc7-b1cc-89d402b82b2b",
   "metadata": {},
   "source": [
    "### 9. What is a constructor in Python?\n"
   ]
  },
  {
   "cell_type": "code",
   "execution_count": 12,
   "id": "0a6f691c-ba86-4395-8c2c-6a175bafebd1",
   "metadata": {},
   "outputs": [],
   "source": [
    "#The __init__() method is called automatically when an object is created."
   ]
  },
  {
   "cell_type": "code",
   "execution_count": 13,
   "id": "7d3bf14f-1fd3-41a7-81cf-c2467522f934",
   "metadata": {},
   "outputs": [],
   "source": [
    "class Student:\n",
    "    def __init__(self, name):\n",
    "        self.name = name\n"
   ]
  },
  {
   "cell_type": "markdown",
   "id": "6a2779f3-aa17-4751-907b-8de6dd1326d2",
   "metadata": {},
   "source": [
    "### 10. What are class and static methods in Python?\n",
    "\n",
    "Class methods use @classmethod and access the class itself.\n",
    "\n",
    "Static methods use @staticmethod and don't access class or instance.\n",
    "\n",
    "\n"
   ]
  },
  {
   "cell_type": "code",
   "execution_count": 14,
   "id": "8eaf1883-1206-4f9f-b6df-60aa162257ee",
   "metadata": {},
   "outputs": [],
   "source": [
    "class Test:\n",
    "    @classmethod\n",
    "    def show(cls): ...\n",
    "    \n",
    "    @staticmethod\n",
    "    def info(): ...\n"
   ]
  },
  {
   "cell_type": "markdown",
   "id": "040debc9-43eb-41a7-8da7-3a9103e5ed4b",
   "metadata": {},
   "source": [
    "### 11. What is method overloading in Python?\n",
    "Python doesn't support true overloading but allows default arguments to simulate it.\n",
    "\n"
   ]
  },
  {
   "cell_type": "code",
   "execution_count": 15,
   "id": "4b9d0abf-1932-4d80-a20d-97d54f0b3943",
   "metadata": {},
   "outputs": [],
   "source": [
    "def add(a, b=0): return a + b\n"
   ]
  },
  {
   "cell_type": "markdown",
   "id": "467d77a1-6465-4522-9fc3-6df11c4684ea",
   "metadata": {},
   "source": [
    "### 12. What is method overriding in OOP?\n",
    "When a subclass provides a different implementation for a method from its parent class.\n",
    "\n"
   ]
  },
  {
   "cell_type": "markdown",
   "id": "aa123eaa-91cf-45ec-914f-1697ad704b8e",
   "metadata": {},
   "source": [
    "### 13. What is a property decorator in Python?\n",
    "@property is used to define getters for private variables in a clean syntax.\n",
    "\n"
   ]
  },
  {
   "cell_type": "code",
   "execution_count": 16,
   "id": "a9e1b2bf-8bc3-4167-b063-b65cfdd000d1",
   "metadata": {},
   "outputs": [],
   "source": [
    "@property\n",
    "def age(self):\n",
    "    return self.__age\n"
   ]
  },
  {
   "cell_type": "markdown",
   "id": "5915ae42-daf7-439d-85a2-e9d98dbba8f7",
   "metadata": {},
   "source": [
    "### 14. Why is Polymorphism important in OOP?\n",
    "It increases flexibility and code reuse, letting the same interface work for different objects.\n",
    "\n"
   ]
  },
  {
   "cell_type": "markdown",
   "id": "3fdcc2cf-6001-4989-891b-3765ad940a35",
   "metadata": {},
   "source": [
    "### 15. What is an abstract class in Python?\n",
    "An abstract class has at least one abstract method (using abc module) and cannot be instantiated directly.\n",
    "\n"
   ]
  },
  {
   "cell_type": "markdown",
   "id": "664ba8b1-7b00-4d4f-a14f-3935499ef072",
   "metadata": {},
   "source": [
    "### 16. Advantages of OOP:\n",
    "\n",
    "Reusability\n",
    "\n",
    "Clean structure\n",
    "\n",
    "Easy to debug\n",
    "\n",
    "Real-world modeling"
   ]
  },
  {
   "cell_type": "markdown",
   "id": "a7abce34-d2cd-4a44-a196-884ac2049f7d",
   "metadata": {},
   "source": [
    "### 17. Difference between class variable and instance variable:\n",
    "\n",
    "Class variable is shared by all objects.\n",
    "\n",
    "Instance variable is unique to each object.\n",
    "\n"
   ]
  },
  {
   "cell_type": "markdown",
   "id": "c431a388-95ad-4b78-8b14-7e84204cb775",
   "metadata": {},
   "source": [
    "### 18. What is multiple inheritance in Python?\n",
    "A class can inherit from more than one class."
   ]
  },
  {
   "cell_type": "code",
   "execution_count": 18,
   "id": "10b4563b-677f-4d8e-867f-2afa83e00c0d",
   "metadata": {},
   "outputs": [],
   "source": [
    "class A: ...\n",
    "class B: ...\n",
    "class C(A, B): ...\n"
   ]
  },
  {
   "cell_type": "markdown",
   "id": "2d5de740-7bc9-49a5-9846-e587a20e79ac",
   "metadata": {},
   "source": [
    "### 19. Purpose of __str__ and __repr__:\n",
    "\n"
   ]
  },
  {
   "cell_type": "code",
   "execution_count": null,
   "id": "ca914f3e-892c-43e7-800b-5c6e4c67bb3e",
   "metadata": {},
   "outputs": [],
   "source": [
    "# 1.) __str__ → user-friendly string (used with print())\n",
    "\n",
    "# 2.) __repr__ → developer-focused string (used in console/debug)"
   ]
  },
  {
   "cell_type": "markdown",
   "id": "290513a8-9bc0-4ad3-a4a4-2f179e275a9a",
   "metadata": {},
   "source": [
    "### 20. What is the significance of super() in Python?\n",
    "It calls the parent class method, useful in inheritance to avoid repetition."
   ]
  },
  {
   "cell_type": "code",
   "execution_count": null,
   "id": "13c143f2-b9b4-480c-812b-1d31e6c43f95",
   "metadata": {},
   "outputs": [],
   "source": [
    "super().__init__()\n"
   ]
  },
  {
   "cell_type": "markdown",
   "id": "a8f47842-800a-4140-b6f7-7519d6720ff6",
   "metadata": {},
   "source": [
    "### 21. What is the significance of __del__ method?\n",
    "It’s called when an object is deleted or garbage collected.\n",
    "\n"
   ]
  },
  {
   "cell_type": "markdown",
   "id": "0ba6f580-98e9-4e61-b32b-fc4be7685eb1",
   "metadata": {},
   "source": [
    "### 22. Difference between @staticmethod and @classmethod:\n",
    "\n",
    "@staticmethod doesn’t access class or instance.\n",
    "\n",
    "@classmethod gets the class as cls.\n",
    "\n"
   ]
  },
  {
   "cell_type": "markdown",
   "id": "d0315e87-58ac-4039-93a4-a1fad16183e9",
   "metadata": {},
   "source": [
    "### 23. How does Polymorphism work with inheritance?\n",
    "Child classes can override parent methods. Parent-type references can point to child objects."
   ]
  },
  {
   "cell_type": "markdown",
   "id": "ceb0a5fc-a496-4593-b28f-406a941b72fa",
   "metadata": {},
   "source": [
    "### 24. What is method chaining in Python OOP?\n",
    "Calling multiple methods on the same object in one line by returning self.\n",
    "\n"
   ]
  },
  {
   "cell_type": "code",
   "execution_count": 23,
   "id": "3a08700e-467b-4791-bf65-800caeb5267d",
   "metadata": {},
   "outputs": [],
   "source": [
    "class Example:\n",
    "    def set_a(self, a): self.a = a; return self\n",
    "    def set_b(self, b): self.b = b; return self\n",
    "\n",
    "obj = Example().set_a(5).set_b(10)\n"
   ]
  },
  {
   "cell_type": "markdown",
   "id": "fe8324c5-d6d2-4eb3-8502-ff8d72869785",
   "metadata": {},
   "source": [
    "### 25. Purpose of __call__ method:\n",
    "Allows an object to be called like a function.\n",
    "\n"
   ]
  },
  {
   "cell_type": "code",
   "execution_count": 24,
   "id": "4d06c86a-0d38-4b70-8103-c9e9e981661a",
   "metadata": {},
   "outputs": [
    {
     "name": "stdout",
     "output_type": "stream",
     "text": [
      "5\n"
     ]
    }
   ],
   "source": [
    "class Adder:\n",
    "    def __call__(self, x, y):\n",
    "        return x + y\n",
    "\n",
    "add = Adder()\n",
    "print(add(2, 3))  # Output: 5\n"
   ]
  },
  {
   "cell_type": "markdown",
   "id": "8f7d2e9b-a63b-4d5d-975b-f98ae6766ceb",
   "metadata": {},
   "source": [
    "# Practical Questions"
   ]
  },
  {
   "cell_type": "markdown",
   "id": "36bb4fbb-4cd9-467b-b68e-f592e386d267",
   "metadata": {},
   "source": [
    "### 1. Create a parent class Animal with a method speak() that prints a generic message. Create a child class Dog that overrides the speak() method to print \"Bark!\"."
   ]
  },
  {
   "cell_type": "code",
   "execution_count": 25,
   "id": "09e572b3-ef7a-41d2-a20d-76551c87d6b5",
   "metadata": {},
   "outputs": [
    {
     "name": "stdout",
     "output_type": "stream",
     "text": [
      "Bark!\n"
     ]
    }
   ],
   "source": [
    "class Animal:\n",
    "    def speak(self):\n",
    "        print(\"Animal speaks\")\n",
    "\n",
    "class Dog(Animal):\n",
    "    def speak(self):\n",
    "        print(\"Bark!\")\n",
    "\n",
    "d = Dog()\n",
    "d.speak()\n"
   ]
  },
  {
   "cell_type": "markdown",
   "id": "ce837fb7-8335-4437-8030-63e992e5b8c0",
   "metadata": {},
   "source": [
    "### 2. Write a program to create an abstract class Shape with a method area(). Derive classes Circle and Rectangle from it and implement the area() method in both."
   ]
  },
  {
   "cell_type": "code",
   "execution_count": 27,
   "id": "cd1a5ca5-e5e9-4e75-b88b-cfcd443c9a4c",
   "metadata": {},
   "outputs": [],
   "source": [
    "from abc import ABC, abstractmethod\n",
    "\n",
    "class Shape(ABC):\n",
    "    @abstractmethod\n",
    "    def area(self):\n",
    "        pass\n",
    "\n",
    "class Circle(Shape):\n",
    "    def __init__(self, radius):\n",
    "        self.radius = radius\n",
    "    \n",
    "    def area(self):\n",
    "        return 3.14 * self.radius ** 2\n",
    "\n",
    "class Rectangle(Shape):\n",
    "    def __init__(self, width, height):\n",
    "        self.width = width\n",
    "        self.height = height\n",
    "    \n",
    "    def area(self):\n",
    "        return self.width * self.height\n"
   ]
  },
  {
   "cell_type": "markdown",
   "id": "f7997950-57fa-4833-8365-f140f8dc87e6",
   "metadata": {},
   "source": [
    "### 3. Implement a multi-level inheritance scenario where a class Vehicle has an attribute type. Derive a class Car and further derive a class ElectricCar that adds a battery attribute"
   ]
  },
  {
   "cell_type": "code",
   "execution_count": 28,
   "id": "71f9c51c-5bfa-4ab8-b9c1-8bbcc7109393",
   "metadata": {},
   "outputs": [],
   "source": [
    "class Vehicle:\n",
    "    def __init__(self, v_type):\n",
    "        self.type = v_type\n",
    "\n",
    "class Car(Vehicle):\n",
    "    def __init__(self, v_type, model):\n",
    "        super().__init__(v_type)\n",
    "        self.model = model\n",
    "\n",
    "class ElectricCar(Car):\n",
    "    def __init__(self, v_type, model, battery):\n",
    "        super().__init__(v_type, model)\n",
    "        self.battery = battery\n"
   ]
  },
  {
   "cell_type": "markdown",
   "id": "c6fc45e7-7090-46c2-920d-d8307543864e",
   "metadata": {},
   "source": [
    "### 4. Demonstrate polymorphism by creating a base class Bird with a method fly(). Create two derived classes Sparrow and Penguin that override the fly() method."
   ]
  },
  {
   "cell_type": "code",
   "execution_count": 29,
   "id": "098466d2-f98f-4ae9-9e73-7da49333d7a1",
   "metadata": {},
   "outputs": [
    {
     "name": "stdout",
     "output_type": "stream",
     "text": [
      "Sparrow flies high\n",
      "Penguins can't fly\n"
     ]
    }
   ],
   "source": [
    "class Bird:\n",
    "    def fly(self):\n",
    "        print(\"Some bird is flying\")\n",
    "\n",
    "class Sparrow(Bird):\n",
    "    def fly(self):\n",
    "        print(\"Sparrow flies high\")\n",
    "\n",
    "class Penguin(Bird):\n",
    "    def fly(self):\n",
    "        print(\"Penguins can't fly\")\n",
    "\n",
    "for bird in [Sparrow(), Penguin()]:\n",
    "    bird.fly()\n"
   ]
  },
  {
   "cell_type": "markdown",
   "id": "3f57c79b-2c97-47db-b8d9-80261d6f53b8",
   "metadata": {},
   "source": [
    "### 5. Write a program to demonstrate encapsulation by creating a class BankAccount with private attributes balance and methods to deposit, withdraw, and check balance."
   ]
  },
  {
   "cell_type": "code",
   "execution_count": 30,
   "id": "5bf943b3-d6c5-44ea-b689-e5fb5e725dd4",
   "metadata": {},
   "outputs": [],
   "source": [
    "class BankAccount:\n",
    "    def __init__(self, balance=0):\n",
    "        self.__balance = balance\n",
    "\n",
    "    def deposit(self, amount):\n",
    "        self.__balance += amount\n",
    "\n",
    "    def withdraw(self, amount):\n",
    "        if amount <= self.__balance:\n",
    "            self.__balance -= amount\n",
    "        else:\n",
    "            print(\"Insufficient funds\")\n",
    "\n",
    "    def get_balance(self):\n",
    "        return self.__balance\n"
   ]
  },
  {
   "cell_type": "markdown",
   "id": "767566b6-7adc-4a76-bbdf-7f412f356d0a",
   "metadata": {},
   "source": [
    "### 6. Demonstrate runtime polymorphism using a method play() in a base class Instrument. Derive classes Guitar and Piano that implement their own version of play()."
   ]
  },
  {
   "cell_type": "code",
   "execution_count": 31,
   "id": "0ae3456e-2521-445b-aff5-42a64e7d6674",
   "metadata": {},
   "outputs": [
    {
     "name": "stdout",
     "output_type": "stream",
     "text": [
      "Playing Guitar\n",
      "Playing Piano\n"
     ]
    }
   ],
   "source": [
    "class Instrument:\n",
    "    def play(self):\n",
    "        print(\"Playing instrument\")\n",
    "\n",
    "class Guitar(Instrument):\n",
    "    def play(self):\n",
    "        print(\"Playing Guitar\")\n",
    "\n",
    "class Piano(Instrument):\n",
    "    def play(self):\n",
    "        print(\"Playing Piano\")\n",
    "\n",
    "for i in [Guitar(), Piano()]:\n",
    "    i.play()\n"
   ]
  },
  {
   "cell_type": "markdown",
   "id": "97e80f69-04fb-47ab-b13f-f08830512394",
   "metadata": {},
   "source": [
    "### 7. Create a class MathOperations with a class method add_numbers() to add two numbers and a static method subtract_numbers() to subtract two numbers."
   ]
  },
  {
   "cell_type": "code",
   "execution_count": 32,
   "id": "97571dff-4033-4bab-b9ea-a61acb033125",
   "metadata": {},
   "outputs": [],
   "source": [
    "class MathOperations:\n",
    "    @classmethod\n",
    "    def add_numbers(cls, a, b):\n",
    "        return a + b\n",
    "\n",
    "    @staticmethod\n",
    "    def subtract_numbers(a, b):\n",
    "        return a - b\n"
   ]
  },
  {
   "cell_type": "markdown",
   "id": "b401ebf2-7112-4863-881e-856a684ebb89",
   "metadata": {},
   "source": [
    "### 8. Implement a class Person with a class method to count the total number of persons created."
   ]
  },
  {
   "cell_type": "code",
   "execution_count": 33,
   "id": "74a6c33e-0ccd-4b3c-ad03-803d3f92fe92",
   "metadata": {},
   "outputs": [],
   "source": [
    "class Person:\n",
    "    count = 0\n",
    "\n",
    "    def __init__(self, name):\n",
    "        self.name = name\n",
    "        Person.count += 1\n",
    "\n",
    "    @classmethod\n",
    "    def total_persons(cls):\n",
    "        return cls.count\n"
   ]
  },
  {
   "cell_type": "markdown",
   "id": "cd0adbdb-a993-4632-919d-4f9e36f657bd",
   "metadata": {},
   "source": [
    "### 9. Write a class Fraction with attributes numerator and denominator. Override the str method to display the fraction as \"numerator/denominator\"."
   ]
  },
  {
   "cell_type": "code",
   "execution_count": 34,
   "id": "611cf311-449b-4121-95be-7b99522bdd91",
   "metadata": {},
   "outputs": [],
   "source": [
    "class Fraction:\n",
    "    def __init__(self, num, den):\n",
    "        self.numerator = num\n",
    "        self.denominator = den\n",
    "\n",
    "    def __str__(self):\n",
    "        return f\"{self.numerator}/{self.denominator}\"\n"
   ]
  },
  {
   "cell_type": "markdown",
   "id": "0adedffe-34c4-4606-9923-2eb6cf80bd92",
   "metadata": {},
   "source": [
    "### 10. Demonstrate operator overloading by creating a class Vector and overriding the add method to add two vectors."
   ]
  },
  {
   "cell_type": "code",
   "execution_count": 35,
   "id": "1fbec4ea-07af-4d2d-a7bd-2285e02a5bda",
   "metadata": {},
   "outputs": [],
   "source": [
    "class Vector:\n",
    "    def __init__(self, x, y):\n",
    "        self.x = x\n",
    "        self.y = y\n",
    "\n",
    "    def __add__(self, other):\n",
    "        return Vector(self.x + other.x, self.y + other.y)\n",
    "\n",
    "    def __str__(self):\n",
    "        return f\"({self.x}, {self.y})\"\n"
   ]
  },
  {
   "cell_type": "markdown",
   "id": "ecefda68-41dd-4077-9c99-9d01c01c0980",
   "metadata": {},
   "source": [
    "### 11. Create a class Person with attributes name and age. Add a method greet() that prints \"Hello, my name is {name} and I am {age} years old.\""
   ]
  },
  {
   "cell_type": "code",
   "execution_count": 36,
   "id": "245b58ff-d0a8-4079-ab4a-a19ba236bd82",
   "metadata": {},
   "outputs": [],
   "source": [
    "class Person:\n",
    "    def __init__(self, name, age):\n",
    "        self.name = name\n",
    "        self.age = age\n",
    "\n",
    "    def greet(self):\n",
    "        print(f\"Hello, my name is {self.name} and I am {self.age} years old.\")\n"
   ]
  },
  {
   "cell_type": "markdown",
   "id": "97b5a58b-16ad-464f-a793-583fa084d343",
   "metadata": {},
   "source": [
    "### 12. Implement a class Student with attributes name and grades. Create a method average_grade() to compute the average of the grades"
   ]
  },
  {
   "cell_type": "code",
   "execution_count": 37,
   "id": "dc305838-f6f1-4dc3-a9e5-d11bc60c0052",
   "metadata": {},
   "outputs": [],
   "source": [
    "class Student:\n",
    "    def __init__(self, name, grades):\n",
    "        self.name = name\n",
    "        self.grades = grades\n",
    "\n",
    "    def average_grade(self):\n",
    "        return sum(self.grades) / len(self.grades)\n"
   ]
  },
  {
   "cell_type": "markdown",
   "id": "9eaa4fa3-f2e0-41e6-b7c4-4e8539730855",
   "metadata": {},
   "source": [
    "### 13. Create a class Rectangle with methods set_dimensions() to set the dimensions and area() to calculate the area."
   ]
  },
  {
   "cell_type": "code",
   "execution_count": 38,
   "id": "9ea7a184-0747-4834-b118-64e20aa8adbf",
   "metadata": {},
   "outputs": [],
   "source": [
    "class Rectangle:\n",
    "    def set_dimensions(self, width, height):\n",
    "        self.width = width\n",
    "        self.height = height\n",
    "\n",
    "    def area(self):\n",
    "        return self.width * self.height\n"
   ]
  },
  {
   "cell_type": "markdown",
   "id": "2af3e5a9-3572-4265-bc8a-7bffc3fc31f2",
   "metadata": {},
   "source": [
    "### 14. Create a class Employee with a method calculate_salary() that computes the salary based on hours worked and hourly rate. Create a derived class Manager that adds a bonus to the salary"
   ]
  },
  {
   "cell_type": "code",
   "execution_count": 39,
   "id": "9db5e134-8426-4191-9d96-0f8edde3cf1e",
   "metadata": {},
   "outputs": [],
   "source": [
    "class Employee:\n",
    "    def calculate_salary(self, hours, rate):\n",
    "        return hours * rate\n",
    "\n",
    "class Manager(Employee):\n",
    "    def calculate_salary(self, hours, rate, bonus):\n",
    "        return super().calculate_salary(hours, rate) + bonus\n"
   ]
  },
  {
   "cell_type": "markdown",
   "id": "70e1d493-8090-4b79-b91c-1a17a8c9f1aa",
   "metadata": {},
   "source": [
    "### 15. Create a class Product with attributes name, price, and quantity. Implement a method total_price() that calculates the total price of the product."
   ]
  },
  {
   "cell_type": "code",
   "execution_count": 40,
   "id": "761c3133-a4d4-4055-9779-9a702fdeda15",
   "metadata": {},
   "outputs": [],
   "source": [
    "class Product:\n",
    "    def __init__(self, name, price, quantity):\n",
    "        self.name = name\n",
    "        self.price = price\n",
    "        self.quantity = quantity\n",
    "\n",
    "    def total_price(self):\n",
    "        return self.price * self.quantity\n"
   ]
  },
  {
   "cell_type": "markdown",
   "id": "982d72cf-dc4a-404d-9b18-eed142cc5604",
   "metadata": {},
   "source": [
    "### 16. Create a class Animal with an abstract method sound(). Create two derived classes Cow and Sheep that implement the sound() method."
   ]
  },
  {
   "cell_type": "code",
   "execution_count": 41,
   "id": "9670dc0b-dd3a-40e9-8d94-9b942fc3c15d",
   "metadata": {},
   "outputs": [],
   "source": [
    "from abc import ABC, abstractmethod\n",
    "\n",
    "class Animal(ABC):\n",
    "    @abstractmethod\n",
    "    def sound(self):\n",
    "        pass\n",
    "\n",
    "class Cow(Animal):\n",
    "    def sound(self):\n",
    "        return \"Moo\"\n",
    "\n",
    "class Sheep(Animal):\n",
    "    def sound(self):\n",
    "        return \"Baa\"\n"
   ]
  },
  {
   "cell_type": "code",
   "execution_count": null,
   "id": "7b85c61e-f232-49cc-998b-b8a804965236",
   "metadata": {},
   "outputs": [],
   "source": []
  },
  {
   "cell_type": "code",
   "execution_count": 42,
   "id": "7fb7f958-1297-4e0f-bb88-a21cf6f9961a",
   "metadata": {},
   "outputs": [],
   "source": [
    "class Book:\n",
    "    def __init__(self, title, author, year):\n",
    "        self.title = title\n",
    "        self.author = author\n",
    "        self.year_published = year\n",
    "\n",
    "    def get_book_info(self):\n",
    "        return f\"{self.title} by {self.author}, published in {self.year_published}\"\n"
   ]
  },
  {
   "cell_type": "code",
   "execution_count": null,
   "id": "e66991ef-39b9-4cf9-8a4e-c18283fa13bb",
   "metadata": {},
   "outputs": [],
   "source": []
  },
  {
   "cell_type": "code",
   "execution_count": null,
   "id": "4196c775-ba2b-45d1-96cc-9a402c02da12",
   "metadata": {},
   "outputs": [],
   "source": [
    "class House:\n",
    "    def __init__(self, address, price):\n",
    "        self.address = address\n",
    "        self.price = price\n",
    "\n",
    "class Mansion(House):\n",
    "    def __init__(self, address, price, rooms):\n",
    "        super().__init__(address, price)\n",
    "        self.number_of_rooms = rooms\n"
   ]
  }
 ],
 "metadata": {
  "kernelspec": {
   "display_name": "Python 3 (ipykernel)",
   "language": "python",
   "name": "python3"
  },
  "language_info": {
   "codemirror_mode": {
    "name": "ipython",
    "version": 3
   },
   "file_extension": ".py",
   "mimetype": "text/x-python",
   "name": "python",
   "nbconvert_exporter": "python",
   "pygments_lexer": "ipython3",
   "version": "3.11.7"
  }
 },
 "nbformat": 4,
 "nbformat_minor": 5
}
