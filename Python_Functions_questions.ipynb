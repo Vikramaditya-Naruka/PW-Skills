{
 "cells": [
  {
   "cell_type": "markdown",
   "id": "d6d2b84a-b69e-4714-ae4b-1c2677887653",
   "metadata": {},
   "source": [
    "### 1. What is the difference between a function and a method in Python?\n",
    "Function: A block of reusable code defined using def. Can be used independently.\n",
    "\n",
    "Method: A function that is associated with an object (usually called on objects)."
   ]
  },
  {
   "cell_type": "code",
   "execution_count": 1,
   "id": "f77efda4-5b6b-4c3a-b332-6f307e1353a5",
   "metadata": {},
   "outputs": [
    {
     "data": {
      "text/plain": [
       "'ALICE'"
      ]
     },
     "execution_count": 1,
     "metadata": {},
     "output_type": "execute_result"
    }
   ],
   "source": [
    "def greet():                # Function\n",
    "    print(\"Hello\")\n",
    "\n",
    "name = \"Alice\"\n",
    "name.upper()                # Method (called on a string object)\n"
   ]
  },
  {
   "cell_type": "markdown",
   "id": "f4b82630-5d3c-4540-8b68-f9a8e1c6d88b",
   "metadata": {},
   "source": [
    "### 2. Explain the concept of function arguments and parameters in Python.\n",
    "Parameter: Variable listed inside the function definition.\n",
    "\n",
    "Argument: Actual value passed when calling the function.\n",
    "\n",
    "✅ Example:"
   ]
  },
  {
   "cell_type": "code",
   "execution_count": 2,
   "id": "1f5064a4-e042-498d-9a88-d5b59f7128fd",
   "metadata": {},
   "outputs": [
    {
     "data": {
      "text/plain": [
       "8"
      ]
     },
     "execution_count": 2,
     "metadata": {},
     "output_type": "execute_result"
    }
   ],
   "source": [
    "def add(a, b):   # a, b are parameters\n",
    "    return a + b\n",
    "\n",
    "add(5, 3)        # 5, 3 are arguments\n"
   ]
  },
  {
   "cell_type": "markdown",
   "id": "a696fe49-2724-47a0-8ce0-437ef0ab0ad9",
   "metadata": {},
   "source": [
    "### 3. What are the different ways to define and call a function in Python?\n",
    "Define with def, call by function name.\n",
    "\n",
    "Use default, keyword, or variable-length arguments.\n",
    "\n",
    "✅ Examples:"
   ]
  },
  {
   "cell_type": "code",
   "execution_count": 3,
   "id": "5a400e16-07d3-47aa-b378-a5f688978b72",
   "metadata": {},
   "outputs": [
    {
     "name": "stdout",
     "output_type": "stream",
     "text": [
      "Hello Vikram\n",
      "Hello Guest\n",
      "6\n"
     ]
    }
   ],
   "source": [
    "# Normal function\n",
    "def greet(name):\n",
    "    print(\"Hello\", name)\n",
    "greet(\"Vikram\")\n",
    "\n",
    "# Default argument\n",
    "def greet(name=\"Guest\"):\n",
    "    print(\"Hello\", name)\n",
    "greet()\n",
    "\n",
    "# *args for multiple arguments\n",
    "def add(*nums):\n",
    "    print(sum(nums))\n",
    "add(1, 2, 3)\n"
   ]
  },
  {
   "cell_type": "markdown",
   "id": "d711f18a-23f0-4172-9295-8736263fbad8",
   "metadata": {},
   "source": [
    "#### 4. What is the purpose of the return statement in a Python function?\n",
    "It ends the function and returns a value to the caller.\n",
    "\n",
    "✅ Example:"
   ]
  },
  {
   "cell_type": "code",
   "execution_count": 4,
   "id": "2fbe2812-2d41-4624-a3fd-926c95952312",
   "metadata": {},
   "outputs": [
    {
     "name": "stdout",
     "output_type": "stream",
     "text": [
      "16\n"
     ]
    }
   ],
   "source": [
    "def square(x):\n",
    "    return x * x\n",
    "\n",
    "result = square(4)\n",
    "print(result)  # 16\n"
   ]
  },
  {
   "cell_type": "markdown",
   "id": "ddbc7b8b-6186-4590-b7e1-af306c24c77c",
   "metadata": {},
   "source": [
    "### 5. What are iterators in Python and how do they differ from iterables?\n",
    "✔️ Definition:\n",
    "An iterable is any object you can loop over (e.g., list, tuple, string).\n",
    "\n",
    "An iterator is an object that remembers its position during iteration and has two methods:\n",
    "\n",
    "__iter__() → returns the iterator itself\n",
    "\n",
    "__next__() → returns the next item or raises StopIteration\n",
    "\n",
    "Real-Life Analogy:\n",
    "Iterable → a music playlist\n",
    "\n",
    "Iterator → the remote that plays songs one by one\n",
    "\n",
    "✅ Example:"
   ]
  },
  {
   "cell_type": "code",
   "execution_count": 8,
   "id": "04ca4f96-5c2e-4318-a240-d364e7a91ea6",
   "metadata": {},
   "outputs": [
    {
     "name": "stdout",
     "output_type": "stream",
     "text": [
      "10\n",
      "20\n",
      "30\n"
     ]
    }
   ],
   "source": [
    "my_list = [10, 20, 30]     # This is an iterable\n",
    "\n",
    "my_iter = iter(my_list)    # This creates an iterator\n",
    "\n",
    "print(next(my_iter))       # 10\n",
    "print(next(my_iter))       # 20\n",
    "print(next(my_iter))       # 30\n",
    "# next(my_iter) → raises StopIteration\n"
   ]
  },
  {
   "cell_type": "markdown",
   "id": "236a6d41-bbc0-43b4-8848-1626dc20681d",
   "metadata": {},
   "source": [
    "### 7. What are the advantages of using generators over regular functions?\n",
    "Memory efficient: Generates items one at a time.\n",
    "\n",
    "Faster startup time: No need to store all values.\n",
    "\n",
    "✅ Use case:\n",
    "Useful for working with large files, streams, or infinite sequences."
   ]
  },
  {
   "cell_type": "code",
   "execution_count": 9,
   "id": "d201beae-97af-4245-b075-ef87487b2c00",
   "metadata": {},
   "outputs": [
    {
     "name": "stdout",
     "output_type": "stream",
     "text": [
      "1\n",
      "2\n",
      "3\n"
     ]
    }
   ],
   "source": [
    "def count_up_to(n):\n",
    "    i = 1\n",
    "    while i <= n:\n",
    "        yield i\n",
    "        i += 1\n",
    "\n",
    "gen = count_up_to(3)\n",
    "\n",
    "for num in gen:\n",
    "    print(num)\n"
   ]
  },
  {
   "cell_type": "markdown",
   "id": "37d77884-31ac-4137-b132-1feebc0f7962",
   "metadata": {},
   "source": [
    "### 8. What is a lambda function in Python and when is it typically used?\n",
    "A lambda is a small anonymous function defined using the lambda keyword.\n",
    "\n",
    "Used for short, throwaway functions, often as arguments.\n",
    "\n",
    "✅ Example:"
   ]
  },
  {
   "cell_type": "code",
   "execution_count": 5,
   "id": "11af3d77-5a51-4c85-b499-68a014fb11c1",
   "metadata": {},
   "outputs": [
    {
     "name": "stdout",
     "output_type": "stream",
     "text": [
      "25\n"
     ]
    }
   ],
   "source": [
    "square = lambda x: x * x\n",
    "print(square(5))  # 25\n"
   ]
  },
  {
   "cell_type": "markdown",
   "id": "4dcac3d8-6d4d-4309-a187-b9225f8355dc",
   "metadata": {},
   "source": [
    "### 10. What is the difference between map(), reduce(), and filter() functions in Python?"
   ]
  },
  {
   "cell_type": "raw",
   "id": "e899cba3-0d54-4396-aa50-91a2ddffe4be",
   "metadata": {},
   "source": [
    "\n",
    "Function\t                  Purpose\t                                         Example\n",
    "\n",
    "map()\t                     Applies a function to all items\t                map(f, list)\n",
    "filter()\t                 Filters items based on condition\t                filter(f, list)\n",
    "reduce()\t                 Applies rolling computation (like sum, product)\treduce(f, list)\n",
    "\n",
    "✅ Example:"
   ]
  },
  {
   "cell_type": "code",
   "execution_count": 7,
   "id": "1830ed01-52b5-442c-9ea6-7f16f36da4f2",
   "metadata": {},
   "outputs": [
    {
     "name": "stdout",
     "output_type": "stream",
     "text": [
      "[2, 4, 6, 8]\n",
      "[2, 4]\n",
      "10\n"
     ]
    }
   ],
   "source": [
    "from functools import reduce\n",
    "\n",
    "nums = [1, 2, 3, 4]\n",
    "\n",
    "# map\n",
    "print(list(map(lambda x: x*2, nums)))  # [2, 4, 6, 8]\n",
    "\n",
    "# filter\n",
    "print(list(filter(lambda x: x%2==0, nums)))  # [2, 4]\n",
    "\n",
    "# reduce\n",
    "print(reduce(lambda x, y: x + y, nums))  # 10\n"
   ]
  },
  {
   "cell_type": "markdown",
   "id": "36de36d1-f3b5-41f9-a50f-45f4786c3462",
   "metadata": {},
   "source": [
    "### 11. Using pen & Paper write the internal mechanism for sum operation using  reduce function on this given \n",
    "list:[47,11,42,13]; "
   ]
  },
  {
   "cell_type": "code",
   "execution_count": 117,
   "id": "2fc0f378-3a1e-4062-b96e-224a134832aa",
   "metadata": {},
   "outputs": [
    {
     "name": "stderr",
     "output_type": "stream",
     "text": [
      "'[My' is not recognized as an internal or external command,\n",
      "operable program or batch file.\n"
     ]
    }
   ],
   "source": [
    "![My Photo](assignment_photo.jpg)\n"
   ]
  },
  {
   "cell_type": "markdown",
   "id": "3d7fb4e9-9714-4152-bfc3-911964474c84",
   "metadata": {},
   "source": [
    "## Practical Questions:"
   ]
  },
  {
   "cell_type": "markdown",
   "id": "7b2707c9-2c52-46bf-8383-9977be3b2054",
   "metadata": {},
   "source": [
    "### 1. Write a Python function that takes a list of numbers as input and returns the sum of all even numbers in the list."
   ]
  },
  {
   "cell_type": "code",
   "execution_count": 34,
   "id": "4032a667-77e1-4313-a9a2-5d7eea67309f",
   "metadata": {},
   "outputs": [
    {
     "data": {
      "text/plain": [
       "12"
      ]
     },
     "execution_count": 34,
     "metadata": {},
     "output_type": "execute_result"
    }
   ],
   "source": [
    "def add_sum(args):\n",
    "    x = 0\n",
    "    for i in args:\n",
    "        if i%2 == 0:\n",
    "            x += i\n",
    "    return x\n",
    "        \n",
    "    \n",
    "add_sum([1,2,3,4,5,6])"
   ]
  },
  {
   "cell_type": "markdown",
   "id": "fc17da69-79cd-4ae3-8988-79aa7940b281",
   "metadata": {},
   "source": [
    "### 2. Create a Python function that accepts a string and returns the reverse of that string.\n"
   ]
  },
  {
   "cell_type": "code",
   "execution_count": 36,
   "id": "18e473d7-dd42-444e-9cf1-57093e9466c8",
   "metadata": {},
   "outputs": [
    {
     "data": {
      "text/plain": [
       "'aytidamarkiV'"
      ]
     },
     "execution_count": 36,
     "metadata": {},
     "output_type": "execute_result"
    }
   ],
   "source": [
    "def reverse(string):\n",
    "    return string[::-1]\n",
    "    \n",
    "reverse(\"Vikramaditya\")"
   ]
  },
  {
   "cell_type": "markdown",
   "id": "54464b08-975b-479d-bead-34e8ba0abf3e",
   "metadata": {},
   "source": [
    "### 3. Implement a Python function that takes a list of integers and returns a new list containing the squares of each number."
   ]
  },
  {
   "cell_type": "code",
   "execution_count": 45,
   "id": "b4a327b5-bd88-4110-9df5-9ece3e1271cb",
   "metadata": {},
   "outputs": [
    {
     "data": {
      "text/plain": [
       "[1, 4, 9, 16, 25]"
      ]
     },
     "execution_count": 45,
     "metadata": {},
     "output_type": "execute_result"
    }
   ],
   "source": [
    "def list_square(*args):\n",
    "    new_list = []\n",
    "    for i in args:\n",
    "        new_list.append(i*i)\n",
    "    return new_list\n",
    "\n",
    "\n",
    "\n",
    "list_square(1,2,3,4,5)        "
   ]
  },
  {
   "cell_type": "code",
   "execution_count": 46,
   "id": "cec4c816-1c7c-4a4d-80ca-eb122d4946d3",
   "metadata": {},
   "outputs": [],
   "source": [
    "def list_square(new):\n",
    "    return [ i**2 for i in new]"
   ]
  },
  {
   "cell_type": "code",
   "execution_count": 47,
   "id": "794d145a-b646-48f3-b40e-b039372b4eaa",
   "metadata": {},
   "outputs": [
    {
     "data": {
      "text/plain": [
       "[1, 4, 9]"
      ]
     },
     "execution_count": 47,
     "metadata": {},
     "output_type": "execute_result"
    }
   ],
   "source": [
    "list_square([1,2,3])"
   ]
  },
  {
   "cell_type": "markdown",
   "id": "e52817e6-805a-4e72-8686-94a659c040c2",
   "metadata": {},
   "source": [
    "### 4. Write a Python function that checks if a given number is prime or not from 1 to 200."
   ]
  },
  {
   "cell_type": "code",
   "execution_count": 76,
   "id": "95dd0d5d-81b1-4e25-8d9f-3786aa6dc09e",
   "metadata": {},
   "outputs": [
    {
     "name": "stdout",
     "output_type": "stream",
     "text": [
      "[2, 3, 5, 7, 11, 13, 17, 19, 23, 29, 31, 37, 41, 43, 47, 53, 59, 61, 67, 71, 73, 79, 83, 89, 97, 101, 103, 107, 109, 113, 127, 131, 137, 139, 149, 151, 157, 163, 167, 173, 179, 181, 191, 193, 197, 199]\n"
     ]
    }
   ],
   "source": [
    "def is_prime(n):\n",
    "    if n <= 1:\n",
    "        return False\n",
    "    for i in range(2, int(n**0.5) + 1):\n",
    "        if n % i == 0:\n",
    "            return False\n",
    "    return True\n",
    "\n",
    "# Example: Print all primes from 1 to 200\n",
    "primes = [x for x in range(1, 201) if is_prime(x)]\n",
    "print(primes)\n"
   ]
  },
  {
   "cell_type": "markdown",
   "id": "ef616bd3-a2b0-4905-9a71-114a3be73338",
   "metadata": {},
   "source": [
    "### 5. Create an iterator class in Python that generates the Fibonacci sequence up to a specified number of terms."
   ]
  },
  {
   "cell_type": "code",
   "execution_count": 79,
   "id": "a412cd01-756b-450e-af3d-b1754c9d6a3f",
   "metadata": {},
   "outputs": [
    {
     "name": "stdout",
     "output_type": "stream",
     "text": [
      "0\n",
      "1\n",
      "1\n",
      "2\n",
      "3\n",
      "5\n",
      "8\n",
      "13\n",
      "21\n",
      "34\n"
     ]
    }
   ],
   "source": [
    "def fibo(n):\n",
    "    a = 0\n",
    "    b = 1\n",
    "    for i in range(n):\n",
    "        print(a)\n",
    "        a ,b = b, a+b\n",
    "fibo(10)"
   ]
  },
  {
   "cell_type": "markdown",
   "id": "b36ee456-dde5-4170-a405-6dcf58a06cbf",
   "metadata": {},
   "source": [
    "### 6. Write a generator function in Python that yields the powers of 2 up to a given exponent."
   ]
  },
  {
   "cell_type": "code",
   "execution_count": 87,
   "id": "36909682-8a20-4aea-b45b-6e4a773ad45a",
   "metadata": {},
   "outputs": [],
   "source": [
    "def power(n):\n",
    "    for i in range(n+1):\n",
    "        yield 2**i\n",
    "\n"
   ]
  },
  {
   "cell_type": "code",
   "execution_count": 91,
   "id": "6bf5e39b-b8df-4714-9a7c-edb8f2e6aa08",
   "metadata": {},
   "outputs": [],
   "source": [
    "l = power(4)"
   ]
  },
  {
   "cell_type": "code",
   "execution_count": 92,
   "id": "f06f3150-e0b8-4d9f-9cd1-0aa9ba043d1a",
   "metadata": {},
   "outputs": [
    {
     "data": {
      "text/plain": [
       "1"
      ]
     },
     "execution_count": 92,
     "metadata": {},
     "output_type": "execute_result"
    }
   ],
   "source": [
    "next(l)"
   ]
  },
  {
   "cell_type": "code",
   "execution_count": 93,
   "id": "2fa6e91e-5547-43e4-b707-ab401a397bcb",
   "metadata": {},
   "outputs": [
    {
     "data": {
      "text/plain": [
       "2"
      ]
     },
     "execution_count": 93,
     "metadata": {},
     "output_type": "execute_result"
    }
   ],
   "source": [
    "next(l)"
   ]
  },
  {
   "cell_type": "code",
   "execution_count": 94,
   "id": "6f319225-69bc-4681-8f90-24f30c8a81f3",
   "metadata": {},
   "outputs": [
    {
     "data": {
      "text/plain": [
       "4"
      ]
     },
     "execution_count": 94,
     "metadata": {},
     "output_type": "execute_result"
    }
   ],
   "source": [
    "next(l)"
   ]
  },
  {
   "cell_type": "code",
   "execution_count": 95,
   "id": "bbd69f36-9825-410b-bd73-339d38ca2c57",
   "metadata": {},
   "outputs": [
    {
     "data": {
      "text/plain": [
       "8"
      ]
     },
     "execution_count": 95,
     "metadata": {},
     "output_type": "execute_result"
    }
   ],
   "source": [
    "next(l)"
   ]
  },
  {
   "cell_type": "code",
   "execution_count": 96,
   "id": "ebdb6cef-f423-472a-91c7-49bafa0e46ca",
   "metadata": {},
   "outputs": [
    {
     "data": {
      "text/plain": [
       "16"
      ]
     },
     "execution_count": 96,
     "metadata": {},
     "output_type": "execute_result"
    }
   ],
   "source": [
    "next(l)"
   ]
  },
  {
   "cell_type": "markdown",
   "id": "64aef813-f815-4a56-ab2a-20f4d06c5750",
   "metadata": {},
   "source": [
    "### 7. Implement a generator function that reads a file line by line and yields each line as a string."
   ]
  },
  {
   "cell_type": "code",
   "execution_count": 111,
   "id": "a4e14ab7-d968-4dcf-b21f-e69ebdca78c7",
   "metadata": {},
   "outputs": [],
   "source": [
    "def read_file_lines(file_path):\n",
    "    with open(file_path, 'r', encoding='utf-8') as file:\n",
    "        for line in file:\n",
    "            yield line.strip()\n",
    "\n",
    "\n",
    "next_line = read_file_lines(\"US_Complete_Accounting firm.txt\")\n",
    "\n"
   ]
  },
  {
   "cell_type": "code",
   "execution_count": 114,
   "id": "9d4e8f6f-c246-4477-9d04-31980a0b6ada",
   "metadata": {},
   "outputs": [
    {
     "data": {
      "text/plain": [
       "'Results for New York, New York 40.6943 -73.9249:'"
      ]
     },
     "execution_count": 114,
     "metadata": {},
     "output_type": "execute_result"
    }
   ],
   "source": [
    "next(next_line)"
   ]
  },
  {
   "cell_type": "markdown",
   "id": "f2980282-a297-4a5c-884d-5f584df5bf1f",
   "metadata": {},
   "source": [
    "### 8. Use a lambda function in Python to sort a list of tuples based on the second element of each tuple."
   ]
  },
  {
   "cell_type": "code",
   "execution_count": 100,
   "id": "a1be9698-c4b6-40ef-9572-740af6c3d2e2",
   "metadata": {},
   "outputs": [
    {
     "name": "stdout",
     "output_type": "stream",
     "text": [
      "[(3, 1), (5, 2), (1, 4)]\n"
     ]
    }
   ],
   "source": [
    "data = [(1, 4), (3, 1), (5, 2)]\n",
    "sorted_data = sorted(data, key=lambda x: x[1])\n",
    "print(sorted_data)  # Output: [(3, 1), (5, 2), (1, 4)]\n"
   ]
  },
  {
   "cell_type": "markdown",
   "id": "a0165fd0-5e26-472a-996d-7a4788fc46d1",
   "metadata": {},
   "source": [
    "### 9. Write a Python program that uses `map()` to convert a list of temperatures from Celsius to Fahrenheit."
   ]
  },
  {
   "cell_type": "code",
   "execution_count": 101,
   "id": "d501531a-8693-472b-8d8b-e02f5eae3f0a",
   "metadata": {},
   "outputs": [
    {
     "name": "stdout",
     "output_type": "stream",
     "text": [
      "[32.0, 68.0, 86.0, 104.0]\n"
     ]
    }
   ],
   "source": [
    "celsius = [0, 20, 30, 40]\n",
    "\n",
    "# Formula: F = C * 9/5 + 32\n",
    "fahrenheit = list(map(lambda c: c * 9/5 + 32, celsius))\n",
    "\n",
    "print(fahrenheit)  \n"
   ]
  },
  {
   "cell_type": "markdown",
   "id": "f9cfcab3-fa71-4097-9988-ef7afdc0ea4a",
   "metadata": {},
   "source": [
    "### 10. Create a Python program that uses `filter()` to remove all the vowels from a given string."
   ]
  },
  {
   "cell_type": "code",
   "execution_count": 105,
   "id": "447a1a2e-4ad6-4479-854e-201fc822f9dd",
   "metadata": {},
   "outputs": [
    {
     "name": "stdout",
     "output_type": "stream",
     "text": [
      "Hll Wrld\n"
     ]
    }
   ],
   "source": [
    "text = \"Hello World\"\n",
    "vowels = \"aeiouAEIOU\"\n",
    "\n",
    "no_vowels = ''.join(filter(lambda x: x not in vowels, text))\n",
    "\n",
    "print(no_vowels)  \n"
   ]
  },
  {
   "cell_type": "markdown",
   "id": "796e1ac0-6133-449a-8def-e08e472b26be",
   "metadata": {},
   "source": [
    "### 11.Write a Python program, which returns a list with 2-tuples. Each tuple consists of the order number and the product of the price per item and the quantity. The product should be increased by 10,- € if the value of the order is smaller than 100,00 €."
   ]
  },
  {
   "cell_type": "code",
   "execution_count": 115,
   "id": "e9a87121-1608-4dac-a002-618cdd6102db",
   "metadata": {},
   "outputs": [],
   "source": [
    "orders = [\n",
    "    [34587, \"Learning Python, Mark Lutz\", 40.95, 4],\n",
    "    [98762, \"Programming Python, Mark Lutz\", 56.80, 5],\n",
    "    [77226, \"Head First Python, Paul Barry\", 32.95, 3],\n",
    "    [88112, \"Einführung in Python3, Bernd Klein\", 24.99, 3]\n",
    "]\n"
   ]
  },
  {
   "cell_type": "code",
   "execution_count": 116,
   "id": "5b43a9ad-f732-40ba-9860-411d3d6574b4",
   "metadata": {},
   "outputs": [
    {
     "name": "stdout",
     "output_type": "stream",
     "text": [
      "[(34587, 163.8), (98762, 284.0), (77226, 108.85), (88112, 84.97)]\n"
     ]
    }
   ],
   "source": [
    "order_totals = list(map(\n",
    "    lambda order: (\n",
    "        order[0],   # order number\n",
    "        round(order[2] * order[3] + (10 if order[2] * order[3] < 100 else 0), 2)\n",
    "    ),\n",
    "    orders\n",
    "))\n",
    "\n",
    "print(order_totals)\n"
   ]
  },
  {
   "cell_type": "code",
   "execution_count": null,
   "id": "efc1e412-fb7d-4089-ad08-a3ff2b6f30fa",
   "metadata": {},
   "outputs": [],
   "source": []
  }
 ],
 "metadata": {
  "kernelspec": {
   "display_name": "Python 3 (ipykernel)",
   "language": "python",
   "name": "python3"
  },
  "language_info": {
   "codemirror_mode": {
    "name": "ipython",
    "version": 3
   },
   "file_extension": ".py",
   "mimetype": "text/x-python",
   "name": "python",
   "nbconvert_exporter": "python",
   "pygments_lexer": "ipython3",
   "version": "3.11.7"
  }
 },
 "nbformat": 4,
 "nbformat_minor": 5
}
