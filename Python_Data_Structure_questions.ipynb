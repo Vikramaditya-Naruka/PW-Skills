{
 "cells": [
  {
   "cell_type": "markdown",
   "id": "120c0699-c657-43b2-aadf-1c7f5e04e29e",
   "metadata": {},
   "source": [
    "### 1. What are data structures, and why are they important."
   ]
  },
  {
   "cell_type": "markdown",
   "id": "a7b67989-04ae-4d05-afa2-43d91d519278",
   "metadata": {},
   "source": [
    "Data structures are ways to organize and store data (like lists, tuples, dictionaries).\n",
    "They're important because they help you manage and use data efficiently in your programs."
   ]
  },
  {
   "cell_type": "markdown",
   "id": "bdb20016-dd4a-4708-8c92-65486045d55c",
   "metadata": {},
   "source": [
    "### 2.  Explain the difference between mutable and immutable data types with examples.?"
   ]
  },
  {
   "cell_type": "markdown",
   "id": "a80cb6b4-f6e3-4a57-afe1-692d78bd371c",
   "metadata": {},
   "source": [
    "Mutable: Can change after creation (e.g., list, dict, set)\n",
    "\n",
    "Immutable: Cannot change after creation (e.g., int, str, tuple)\n",
    "\n"
   ]
  },
  {
   "cell_type": "code",
   "execution_count": 3,
   "id": "f82fa1cd-0d95-449a-9362-994ce26e629e",
   "metadata": {},
   "outputs": [],
   "source": [
    "x = [1, 2]     # list → mutable\n",
    "x.append(3)    # changes x\n",
    "\n",
    "y = \"hello\"    # string → immutable\n",
    "# y[0] = \"H\"   → ❌ error\n"
   ]
  },
  {
   "cell_type": "markdown",
   "id": "0ffa6393-5ac5-488f-87fb-0f828cc469db",
   "metadata": {},
   "source": [
    "### 3. What are the main differences between lists and tuples in Python."
   ]
  },
  {
   "cell_type": "raw",
   "id": "a4c1f9be-37ef-47dc-a60d-d71ddf8a8881",
   "metadata": {},
   "source": [
    "Feature\t          List \t                   Tuple\n",
    "Syntax\t          [1, 2, 3]\t              (1, 2, 3)\n",
    "Mutability\t      Mutable\t               Immutable\n",
    "Use case\t      Changing data\t          Fixed data\n",
    "Speed\t          Slightly slower\t       Faster\n"
   ]
  },
  {
   "cell_type": "markdown",
   "id": "6ffde28f-92f7-42a0-a687-d2fbabf84c56",
   "metadata": {},
   "source": [
    "### 4. Describe how dictionaries store data."
   ]
  },
  {
   "cell_type": "markdown",
   "id": "07fe27ee-0522-4e5b-893d-0976d125b619",
   "metadata": {},
   "source": [
    "Dictionaries store data as key-value pairs, using a hash table internally.\n",
    "Example:\n"
   ]
  },
  {
   "cell_type": "code",
   "execution_count": 5,
   "id": "e8aa6b3d-f627-40c7-8384-7dc195e35bd5",
   "metadata": {},
   "outputs": [
    {
     "data": {
      "text/plain": [
       "{'name': 'John', 'age': 25, 'vikram': 'Aditya'}"
      ]
     },
     "execution_count": 5,
     "metadata": {},
     "output_type": "execute_result"
    }
   ],
   "source": [
    "person = {\"name\": \"John\", \"age\": 25}\n",
    "\n",
    "person['vikram'] = 'Aditya'\n",
    "person"
   ]
  },
  {
   "cell_type": "markdown",
   "id": "e11a3f4a-5783-49b5-afc6-e7d912300c93",
   "metadata": {},
   "source": [
    "### 5. Why use a set instead of a list?"
   ]
  },
  {
   "cell_type": "markdown",
   "id": "ca6c164b-709b-4544-a065-8625c191fb0c",
   "metadata": {},
   "source": [
    "Sets automatically remove duplicates\n",
    "\n",
    "Faster lookup (in) than lists."
   ]
  },
  {
   "cell_type": "markdown",
   "id": "8f09f944-fbeb-4b34-8224-b292eee93225",
   "metadata": {},
   "source": [
    "### 6. What is a string, and how is it different from a list?\n",
    "A string is a sequence of characters (\"hello\")\n",
    "\n",
    "A list is a collection of any items ([\"h\", \"e\", \"l\", \"l\", \"o\"])\n",
    "\n",
    "Strings are immutable, lists are mutable"
   ]
  },
  {
   "cell_type": "markdown",
   "id": "7153aebb-7ef1-4ac2-aec3-0101d04ec017",
   "metadata": {},
   "source": [
    "### 7. How do tuples ensure data integrity?\n",
    "Since tuples are immutable, their values cannot be changed accidentally — useful for fixed data like coordinates or days of the week.\n"
   ]
  },
  {
   "cell_type": "markdown",
   "id": "529028d1-789c-4b61-8325-3c19d9927c5a",
   "metadata": {},
   "source": [
    "### 8. What is a hash table, and how does it relate to dictionaries?\n",
    "A hash table is a data structure that maps keys to values using a hash function.\n",
    "Dictionaries in Python use hash tables under the hood for fast lookup."
   ]
  },
  {
   "cell_type": "markdown",
   "id": "fbd69cd6-b19f-4d4a-aa5c-4a0f597e0a1a",
   "metadata": {},
   "source": [
    "### 9. Can lists contain different data types?\n",
    "Yes! Lists in Python can hold mixed data types:"
   ]
  },
  {
   "cell_type": "code",
   "execution_count": 8,
   "id": "f3f76b09-fece-44ed-8677-5a9f66060e58",
   "metadata": {},
   "outputs": [],
   "source": [
    "my_list = [1, \"hello\", 3.14, True]\n"
   ]
  },
  {
   "cell_type": "markdown",
   "id": "40c88d6e-93ce-4732-843d-aa8da06ebd19",
   "metadata": {},
   "source": [
    "### 10. Why are strings immutable?\n",
    "To ensure:\n",
    "\n",
    "Memory efficiency\n",
    "\n",
    "Thread safety\n",
    "\n",
    "Consistency in behavior when shared across code"
   ]
  },
  {
   "cell_type": "markdown",
   "id": "95d60c43-ce35-4114-a8ea-b46745f475b4",
   "metadata": {},
   "source": [
    "### 11. Advantages of dictionaries over lists:\n",
    "Fast lookup by key\n",
    "\n",
    "Clear mapping (like name to age)\n",
    "\n",
    "No need to know position/index"
   ]
  },
  {
   "cell_type": "markdown",
   "id": "5699d526-d2cd-4baf-9512-5c27876a452a",
   "metadata": {},
   "source": [
    "### 12. When to use a tuple instead of a list?\n",
    "Use tuples when:\n",
    "\n",
    "You want to protect data from changes\n",
    "\n",
    "You want to use the object as a dictionary key\n",
    "\n",
    "Example: GPS location → (latitude, longitude)"
   ]
  },
  {
   "cell_type": "markdown",
   "id": "0c82a506-457f-45d4-85d9-37b297c33358",
   "metadata": {},
   "source": [
    "### 13. How do sets handle duplicate values?\n",
    "Sets automatically remove duplicates:"
   ]
  },
  {
   "cell_type": "code",
   "execution_count": 9,
   "id": "1274c38f-dba5-41ce-9cdf-75a27dd261a5",
   "metadata": {},
   "outputs": [
    {
     "name": "stdout",
     "output_type": "stream",
     "text": [
      "{1, 2, 3}\n"
     ]
    }
   ],
   "source": [
    "my_set = {1, 2, 2, 3}\n",
    "print(my_set)  # Output: {1, 2, 3}\n"
   ]
  },
  {
   "cell_type": "markdown",
   "id": "0dfd5585-3640-4364-8094-7daa985a8d9e",
   "metadata": {},
   "source": [
    "### 14. How does “in” work differently for lists and dictionaries?\n",
    "For lists: checks if a value exists in the list\n",
    "\n",
    "For dicts: checks if a key exists"
   ]
  },
  {
   "cell_type": "code",
   "execution_count": 10,
   "id": "1e2b5c4e-77e2-4042-a39d-91a9a5758db5",
   "metadata": {},
   "outputs": [
    {
     "data": {
      "text/plain": [
       "True"
      ]
     },
     "execution_count": 10,
     "metadata": {},
     "output_type": "execute_result"
    }
   ],
   "source": [
    "\"apple\" in [\"apple\", \"banana\"]         # ✅ True\n",
    "\"age\" in {\"name\": \"Sam\", \"age\": 22}    # ✅ True\n"
   ]
  },
  {
   "cell_type": "markdown",
   "id": "ec609598-a752-4943-84e7-2240aa64e1c2",
   "metadata": {},
   "source": [
    "### 15. Can you modify the elements of a tuple? Why not?\n",
    "No. Tuples are immutable, so once created, you cannot change any value inside them.\n",
    "\n"
   ]
  },
  {
   "cell_type": "markdown",
   "id": "dddf1dfb-79c3-40b6-9f9e-ed69a9298f0f",
   "metadata": {},
   "source": [
    "### 16. What is a nested dictionary? Example?\n",
    "A dictionary inside another dictionary."
   ]
  },
  {
   "cell_type": "code",
   "execution_count": 11,
   "id": "b6c4450e-5549-43e1-be49-9b8f0642fd42",
   "metadata": {},
   "outputs": [],
   "source": [
    "students = {\n",
    "  \"A\": {\"name\": \"John\", \"marks\": 90},\n",
    "  \"B\": {\"name\": \"Sara\", \"marks\": 95}\n",
    "}\n"
   ]
  },
  {
   "cell_type": "markdown",
   "id": "acd9c182-5f6d-4eaf-8d00-23f0468f4b7d",
   "metadata": {},
   "source": [
    "### 17. Time complexity of accessing dictionary elements:\n",
    "Accessing an element by key in a dictionary is O(1) (constant time), because of hash tables.\n",
    "\n"
   ]
  },
  {
   "cell_type": "markdown",
   "id": "2575cfc0-91dd-4b1d-92e3-cdb8dcc3353a",
   "metadata": {},
   "source": [
    "### 18. When are lists preferred over dictionaries?\n",
    "When:\n",
    "\n",
    "Order matters (Python lists keep order)\n",
    "\n",
    "You only need to store values, not key-value pairs\n",
    "\n",
    "You want to loop over items by index"
   ]
  },
  {
   "cell_type": "markdown",
   "id": "e45c2183-da11-4432-b159-d4581c515297",
   "metadata": {},
   "source": [
    "### 19. Why are dictionaries considered unordered, and how does that affect retrieval?\n",
    "Before Python 3.7, dicts were unordered, meaning they didn't remember the order of keys.\n",
    "Since 3.7, they do keep order, but logically, dicts are used for key-based access, not position."
   ]
  },
  {
   "cell_type": "markdown",
   "id": "6a00a781-775b-466d-9016-4d64c8f41fea",
   "metadata": {},
   "source": [
    "### 20. Difference between a list and a dictionary (data retrieval):\n",
    "List: Access by index → my_list[0]\n",
    "\n",
    "Dict: Access by key → my_dict[\"name\"]"
   ]
  },
  {
   "cell_type": "markdown",
   "id": "881d55c9-fe73-4384-bcd2-47a4cf83a5cb",
   "metadata": {},
   "source": [
    "### 1.Write a code to create a string with your name and print it."
   ]
  },
  {
   "cell_type": "code",
   "execution_count": 1,
   "id": "75084eba-3789-4607-935c-bc0f992c118b",
   "metadata": {},
   "outputs": [
    {
     "name": "stdout",
     "output_type": "stream",
     "text": [
      "hello my name is Vikramaditya\n"
     ]
    }
   ],
   "source": [
    "name = \"Vikramaditya\"\n",
    "print(f\"hello my name is {name}\")"
   ]
  },
  {
   "cell_type": "markdown",
   "id": "1e3bd512-414d-4916-986d-15791c6bcc9e",
   "metadata": {},
   "source": [
    "### 2.Write a code to find the length of the string \"Hello World\""
   ]
  },
  {
   "cell_type": "code",
   "execution_count": 2,
   "id": "788d87b2-9dc0-4c0e-a06a-d806d766ef1b",
   "metadata": {},
   "outputs": [
    {
     "name": "stdout",
     "output_type": "stream",
     "text": [
      "11\n"
     ]
    }
   ],
   "source": [
    "print(len('Hello World'))"
   ]
  },
  {
   "cell_type": "markdown",
   "id": "95ea1df0-f8b3-47bf-91b2-4cdce2d1e286",
   "metadata": {},
   "source": [
    "### 3. Write a code to slice the first 3 characters from the string \"Python Programming\"."
   ]
  },
  {
   "cell_type": "code",
   "execution_count": 5,
   "id": "1314f3a7-9736-4f01-b953-41a8234655cb",
   "metadata": {},
   "outputs": [
    {
     "data": {
      "text/plain": [
       "'Pyt'"
      ]
     },
     "execution_count": 5,
     "metadata": {},
     "output_type": "execute_result"
    }
   ],
   "source": [
    "char = \"Python Programming\"\n",
    "char[0:3]"
   ]
  },
  {
   "cell_type": "markdown",
   "id": "a147de73-a696-4669-b1af-649f1519b185",
   "metadata": {},
   "source": [
    "### 4. Write a code to convert the string \"hello\" to uppercase."
   ]
  },
  {
   "cell_type": "code",
   "execution_count": 1,
   "id": "8e2e919a-97cc-42ce-b3c8-faeb5fbae413",
   "metadata": {},
   "outputs": [
    {
     "data": {
      "text/plain": [
       "'HELLO'"
      ]
     },
     "execution_count": 1,
     "metadata": {},
     "output_type": "execute_result"
    }
   ],
   "source": [
    "char = \"hello\"\n",
    "char.upper()"
   ]
  },
  {
   "cell_type": "markdown",
   "id": "85804a9e-dd2a-411f-8c8e-68306527455b",
   "metadata": {},
   "source": [
    "### 5. Write a code to replace the word \"apple\" with \"orange\" in the string \"I like apple\"."
   ]
  },
  {
   "cell_type": "code",
   "execution_count": 5,
   "id": "eea2d08c-d9da-4312-8b74-ac2136e8b47b",
   "metadata": {},
   "outputs": [
    {
     "data": {
      "text/plain": [
       "'I like orange'"
      ]
     },
     "execution_count": 5,
     "metadata": {},
     "output_type": "execute_result"
    }
   ],
   "source": [
    "char = \"I like apple\"\n",
    "new_text = char.replace(\"apple\",\"orange\")\n",
    "new_text"
   ]
  },
  {
   "cell_type": "markdown",
   "id": "4745cdfe-ba3e-4678-b695-3d3dd566cd2b",
   "metadata": {},
   "source": [
    "### 6. Write a code to create a list with numbers 1 to 5 and print it."
   ]
  },
  {
   "cell_type": "code",
   "execution_count": 8,
   "id": "b8a096cc-43ab-4266-a5b4-bc8555b74342",
   "metadata": {},
   "outputs": [
    {
     "data": {
      "text/plain": [
       "[1, 2, 3, 4, 5]"
      ]
     },
     "execution_count": 8,
     "metadata": {},
     "output_type": "execute_result"
    }
   ],
   "source": [
    "\n",
    "new_list = [ i for i in range(1,6)]\n",
    "new_list"
   ]
  },
  {
   "cell_type": "markdown",
   "id": "ef988410-1ec2-4dba-8c19-f60fce68f5e6",
   "metadata": {},
   "source": [
    "### 7. Write a code to append the number 10 to the list [1, 2, 3, 4]."
   ]
  },
  {
   "cell_type": "code",
   "execution_count": 10,
   "id": "b16e9af8-342c-42ab-91ba-97307ed0fa3b",
   "metadata": {},
   "outputs": [
    {
     "data": {
      "text/plain": [
       "[1, 2, 3, 4, 10]"
      ]
     },
     "execution_count": 10,
     "metadata": {},
     "output_type": "execute_result"
    }
   ],
   "source": [
    "new_list = [1,2,3,4]\n",
    "new_list.append(10)\n",
    "new_list"
   ]
  },
  {
   "cell_type": "markdown",
   "id": "0ffaf996-5b18-4d7d-aa94-2b5565618334",
   "metadata": {},
   "source": [
    "### 8. Write a code to remove the number 3 from the list [1, 2, 3, 4, 5]."
   ]
  },
  {
   "cell_type": "code",
   "execution_count": 1,
   "id": "1195fce2-ef41-4796-8b82-77dbb57a89bf",
   "metadata": {},
   "outputs": [
    {
     "data": {
      "text/plain": [
       "[1, 2, 4, 5]"
      ]
     },
     "execution_count": 1,
     "metadata": {},
     "output_type": "execute_result"
    }
   ],
   "source": [
    "new_list = [1,2,3,4,5]\n",
    "new_list.remove(3)\n",
    "new_list"
   ]
  },
  {
   "cell_type": "markdown",
   "id": "2b3c8553-7ef0-4145-9a4d-6337e09acf5e",
   "metadata": {},
   "source": [
    "### 9. Write a code to access the second element in the list ['a', 'b', 'c', 'd']"
   ]
  },
  {
   "cell_type": "code",
   "execution_count": null,
   "id": "05393d66-6399-4cb2-bd03-9288c8e0faa3",
   "metadata": {},
   "outputs": [],
   "source": [
    "new_list = ['a','b','c','d']\n",
    "new_list[]"
   ]
  },
  {
   "cell_type": "markdown",
   "id": "34f7b1c4-b8a3-4c6d-a0d2-9c48282eac2f",
   "metadata": {},
   "source": [
    "### 10. Write a code to reverse the list [10, 20, 30, 40, 50]."
   ]
  },
  {
   "cell_type": "code",
   "execution_count": 3,
   "id": "18ed7629-ce31-4120-a1e1-6cea44f88578",
   "metadata": {},
   "outputs": [
    {
     "data": {
      "text/plain": [
       "[50, 40, 30, 20, 10]"
      ]
     },
     "execution_count": 3,
     "metadata": {},
     "output_type": "execute_result"
    }
   ],
   "source": [
    "new_list = [10,20,30,40,50]\n",
    "new_list = new_list[::-1] \n",
    "new_list"
   ]
  },
  {
   "cell_type": "markdown",
   "id": "a817d989-1470-4488-999c-833eccd353f7",
   "metadata": {},
   "source": [
    "### 11. Write a code to create a tuple with the elements 100, 200, 300 and print it."
   ]
  },
  {
   "cell_type": "code",
   "execution_count": 4,
   "id": "4e424604-72a5-42bf-9230-a744eb4445e5",
   "metadata": {},
   "outputs": [
    {
     "name": "stdout",
     "output_type": "stream",
     "text": [
      "(100, 200, 300)\n"
     ]
    }
   ],
   "source": [
    "tup = (100,200,300)\n",
    "print(tup)"
   ]
  },
  {
   "cell_type": "markdown",
   "id": "ba8b0153-0b6c-4c96-873a-08a788859866",
   "metadata": {},
   "source": [
    "### 12. Write a code to access the second-to-last element of the tuple ('red', 'green', 'blue', 'yellow')."
   ]
  },
  {
   "cell_type": "code",
   "execution_count": 6,
   "id": "99aff25d-5fa6-4208-993b-b430eaaab32d",
   "metadata": {},
   "outputs": [
    {
     "name": "stdout",
     "output_type": "stream",
     "text": [
      "('green', 'blue', 'yellow')\n"
     ]
    }
   ],
   "source": [
    "tup = ('red', 'green', 'blue', 'yellow')\n",
    "print(tup[1:])"
   ]
  },
  {
   "cell_type": "markdown",
   "id": "0f8214e1-c2a9-400b-a6ee-23caf9b3ebd8",
   "metadata": {},
   "source": [
    "### 13. Write a code to find the minimum number in the tuple (10, 20, 5, 15)"
   ]
  },
  {
   "cell_type": "code",
   "execution_count": 8,
   "id": "66e317de-ff71-4aee-a5dc-f964b916f5af",
   "metadata": {},
   "outputs": [
    {
     "data": {
      "text/plain": [
       "5"
      ]
     },
     "execution_count": 8,
     "metadata": {},
     "output_type": "execute_result"
    }
   ],
   "source": [
    "tup = (10,20,5,15)\n",
    "min(tup)"
   ]
  },
  {
   "cell_type": "markdown",
   "id": "893e17e8-313c-4a22-bf67-0847848b5d3c",
   "metadata": {},
   "source": [
    "### 14. Write a code to find the index of the element \"cat\" in the tuple ('dog', 'cat', 'rabbit')."
   ]
  },
  {
   "cell_type": "code",
   "execution_count": 9,
   "id": "8a44ecfe-8cb5-4a85-b400-a9e01a41bed0",
   "metadata": {},
   "outputs": [
    {
     "data": {
      "text/plain": [
       "1"
      ]
     },
     "execution_count": 9,
     "metadata": {},
     "output_type": "execute_result"
    }
   ],
   "source": [
    "tup = ('dog', 'cat', 'rabbit')\n",
    "tup.index('cat')"
   ]
  },
  {
   "cell_type": "markdown",
   "id": "19a10cfe-4f73-4ee1-b53b-3185b3a00991",
   "metadata": {},
   "source": [
    "### 15. Write a code to create a tuple containing three different fruits and check if \"kiwi\" is in it."
   ]
  },
  {
   "cell_type": "code",
   "execution_count": 11,
   "id": "2d805b4e-58f1-466d-9375-ea2bd21bd8f9",
   "metadata": {},
   "outputs": [
    {
     "name": "stdout",
     "output_type": "stream",
     "text": [
      "yes ! kiwi in fruits tuple\n"
     ]
    }
   ],
   "source": [
    "fruits = (\"mango\",\"orange\",\"kiwi\")\n",
    "if \"kiwi\" in fruits:\n",
    "    print(\"yes ! kiwi in fruits tuple.\")"
   ]
  },
  {
   "cell_type": "markdown",
   "id": "db730347-6864-4a6d-8c3f-4f6b5f7d2b7e",
   "metadata": {},
   "source": [
    "### 16.  Write a code to create a set with the elements 'a', 'b', 'c' and print it."
   ]
  },
  {
   "cell_type": "code",
   "execution_count": 15,
   "id": "633bda74-67e9-47a2-90fb-94e637d26927",
   "metadata": {},
   "outputs": [
    {
     "name": "stdout",
     "output_type": "stream",
     "text": [
      "{'b', 'c', 'a'}\n"
     ]
    },
    {
     "data": {
      "text/plain": [
       "set"
      ]
     },
     "execution_count": 15,
     "metadata": {},
     "output_type": "execute_result"
    }
   ],
   "source": [
    "alpha = {'a','b','c'}\n",
    "print(alpha)\n"
   ]
  },
  {
   "cell_type": "markdown",
   "id": "e37e60d3-9df6-47e3-9005-639230dabec2",
   "metadata": {},
   "source": [
    "### 17. Write a code to clear all elements from the set {1, 2, 3, 4, 5}."
   ]
  },
  {
   "cell_type": "code",
   "execution_count": 2,
   "id": "5c2777af-d1de-472f-bcee-0dbb84ff9aac",
   "metadata": {},
   "outputs": [
    {
     "data": {
      "text/plain": [
       "set()"
      ]
     },
     "execution_count": 2,
     "metadata": {},
     "output_type": "execute_result"
    }
   ],
   "source": [
    "alpha = {1,2,3,4,5}\n",
    "alpha.clear()\n",
    "alpha"
   ]
  },
  {
   "cell_type": "markdown",
   "id": "42a6cabb-c00a-4a4f-9ed2-d3a1c76b19f2",
   "metadata": {},
   "source": [
    "### 18 .Write a code to remove the element 4 from the set {1, 2, 3, 4}."
   ]
  },
  {
   "cell_type": "code",
   "execution_count": 15,
   "id": "4a217e64-7679-4bd7-9b89-19d4dced8467",
   "metadata": {},
   "outputs": [
    {
     "data": {
      "text/plain": [
       "{1, 2, 3}"
      ]
     },
     "execution_count": 15,
     "metadata": {},
     "output_type": "execute_result"
    }
   ],
   "source": [
    "s = {1,2,3,4}\n",
    "s.remove(4)\n",
    "s"
   ]
  },
  {
   "cell_type": "markdown",
   "id": "3c58d08f-f808-453b-a14b-184d17450ee1",
   "metadata": {},
   "source": [
    "### 19. Write a code to find the union of two sets {1, 2, 3} and {3, 4, 5}."
   ]
  },
  {
   "cell_type": "code",
   "execution_count": 16,
   "id": "e2a75713-f8c5-4b51-a5f7-b72164f9bd07",
   "metadata": {},
   "outputs": [
    {
     "data": {
      "text/plain": [
       "{1, 2, 3, 4, 5}"
      ]
     },
     "execution_count": 16,
     "metadata": {},
     "output_type": "execute_result"
    }
   ],
   "source": [
    "set1 = {1,2,3}\n",
    "set2 = {3,4,5}\n",
    "union_set = set1.union(set2)\n",
    "union_set"
   ]
  },
  {
   "cell_type": "markdown",
   "id": "c509baa4-dbf4-4492-ac12-090544f3581c",
   "metadata": {},
   "source": [
    "### 20. Write a code to find the intersection of two sets {1, 2, 3} and {2, 3, 4}."
   ]
  },
  {
   "cell_type": "code",
   "execution_count": 17,
   "id": "12893708-f841-4056-b51c-174e6c3561bc",
   "metadata": {},
   "outputs": [
    {
     "data": {
      "text/plain": [
       "{2, 3}"
      ]
     },
     "execution_count": 17,
     "metadata": {},
     "output_type": "execute_result"
    }
   ],
   "source": [
    "set1 = {1,2,3}\n",
    "set2 = {2,3,4}\n",
    "inter_set = set1.intersection(set2)\n",
    "inter_set"
   ]
  },
  {
   "cell_type": "markdown",
   "id": "47daa624-20c9-45da-ab92-0a827a2ff7ca",
   "metadata": {},
   "source": [
    "### 21. Write a code to create a dictionary with the keys \"name\", \"age\", and \"city\", and print it."
   ]
  },
  {
   "cell_type": "code",
   "execution_count": 18,
   "id": "c3b02f7b-d7d1-4d69-af5b-d20a67934f92",
   "metadata": {},
   "outputs": [
    {
     "name": "stdout",
     "output_type": "stream",
     "text": [
      "{'name': 'John', 'age': 25, 'city': 'New York'}\n"
     ]
    }
   ],
   "source": [
    "person = {\"name\": \"John\", \"age\": 25, \"city\": \"New York\"}\n",
    "print(person)\n"
   ]
  },
  {
   "cell_type": "markdown",
   "id": "59aba6c4-23d8-4e13-b443-0cf05167489b",
   "metadata": {},
   "source": [
    "### 22. Write a code to add a new key-value pair \"country\": \"USA\" to the dictionary {'name': 'John', 'age': 25}."
   ]
  },
  {
   "cell_type": "code",
   "execution_count": 19,
   "id": "2cfe4c3d-14c7-4aad-b037-3b24b7000867",
   "metadata": {},
   "outputs": [
    {
     "name": "stdout",
     "output_type": "stream",
     "text": [
      "{'name': 'John', 'age': 25, 'country': 'USA'}\n"
     ]
    }
   ],
   "source": [
    "person = {\"name\": \"John\", \"age\": 25,}\n",
    "person['country'] = 'USA'\n",
    "print(person)"
   ]
  },
  {
   "cell_type": "markdown",
   "id": "2ba1699e-b347-43de-9b2f-359dcf405c1f",
   "metadata": {},
   "source": [
    "### 23. Write a code to access the value associated with the key \"name\" in the dictionary {'name': 'Alice', 'age': 30}."
   ]
  },
  {
   "cell_type": "code",
   "execution_count": 23,
   "id": "04428a54-6d06-461b-b3ef-5fd0b7db8f83",
   "metadata": {},
   "outputs": [
    {
     "data": {
      "text/plain": [
       "'Alice'"
      ]
     },
     "execution_count": 23,
     "metadata": {},
     "output_type": "execute_result"
    }
   ],
   "source": [
    "person = {'name': 'Alice', 'age': 30}\n",
    "person['name']"
   ]
  },
  {
   "cell_type": "markdown",
   "id": "57a120f9-2357-46ad-9a4e-97d3c69c3a50",
   "metadata": {},
   "source": [
    "### 24. Write a code to remove the key \"age\" from the dictionary {'name': 'Bob', 'age': 22, 'city': 'New York'}."
   ]
  },
  {
   "cell_type": "code",
   "execution_count": 24,
   "id": "8bc6fcdc-37f8-4670-8913-a55b4ff09994",
   "metadata": {},
   "outputs": [
    {
     "data": {
      "text/plain": [
       "{'name': 'Bob', 'city': 'New York'}"
      ]
     },
     "execution_count": 24,
     "metadata": {},
     "output_type": "execute_result"
    }
   ],
   "source": [
    "person = {'name': 'Bob', 'age': 22, 'city': 'New York'}\n",
    "del person['age']\n",
    "person"
   ]
  },
  {
   "cell_type": "markdown",
   "id": "8513597e-9e0e-4dde-b253-aa3fac3591ce",
   "metadata": {},
   "source": [
    "### 25. Write a code to check if the key \"city\" exists in the dictionary {'name': 'Alice', 'city': 'Paris'}."
   ]
  },
  {
   "cell_type": "code",
   "execution_count": 25,
   "id": "65830b34-95a8-4b55-877d-66554fee389e",
   "metadata": {},
   "outputs": [
    {
     "name": "stdout",
     "output_type": "stream",
     "text": [
      "Key 'city' exists.\n"
     ]
    }
   ],
   "source": [
    "person = {'name': 'Alice', 'city': 'Paris'}\n",
    "if \"city\" in person:\n",
    "    print(\"Key 'city' exists.\")\n",
    "else:\n",
    "    print(\"Key 'city' does not exist.\")\n"
   ]
  },
  {
   "cell_type": "markdown",
   "id": "6918ecd3-2975-4708-9deb-7b41ccbd0781",
   "metadata": {},
   "source": [
    "### 26.  Write a code to create a list, a tuple, and a dictionary, and print them all."
   ]
  },
  {
   "cell_type": "code",
   "execution_count": 26,
   "id": "394ef7a6-241c-4a60-bb69-0bafacaaabb3",
   "metadata": {},
   "outputs": [
    {
     "name": "stdout",
     "output_type": "stream",
     "text": [
      "List: [1, 2, 3]\n",
      "Tuple: (4, 5, 6)\n",
      "Dictionary: {'a': 1, 'b': 2}\n"
     ]
    }
   ],
   "source": [
    "my_list = [1, 2, 3]\n",
    "my_tuple = (4, 5, 6)\n",
    "my_dict = {\"a\": 1, \"b\": 2}\n",
    "\n",
    "print(\"List:\", my_list)\n",
    "print(\"Tuple:\", my_tuple)\n",
    "print(\"Dictionary:\", my_dict)\n"
   ]
  },
  {
   "cell_type": "markdown",
   "id": "ccd20144-0138-4c4a-af6b-149ae3d433da",
   "metadata": {},
   "source": [
    "### 27. Write a code to create a list of 5 random numbers between 1 and 100, sort it in ascending order, and print the result.(replaced)."
   ]
  },
  {
   "cell_type": "code",
   "execution_count": 28,
   "id": "28d36156-3cfe-486b-a0d6-ac2796e0ca52",
   "metadata": {},
   "outputs": [
    {
     "data": {
      "text/plain": [
       "[78, 79, 61, 68, 29]"
      ]
     },
     "execution_count": 28,
     "metadata": {},
     "output_type": "execute_result"
    }
   ],
   "source": [
    "import random\n",
    "numbers = random.sample(range(1,101),5)\n",
    "numbers.sort\n",
    "numbers"
   ]
  },
  {
   "cell_type": "markdown",
   "id": "d759dbf4-07d0-46c1-9b73-feb6de95357c",
   "metadata": {},
   "source": [
    "### 28. Write a code to create a list with strings and print the element at the third index."
   ]
  },
  {
   "cell_type": "code",
   "execution_count": 29,
   "id": "025452d7-7538-44d6-8413-5cd95aa758fb",
   "metadata": {},
   "outputs": [
    {
     "name": "stdout",
     "output_type": "stream",
     "text": [
      "Element at index 3: date\n"
     ]
    }
   ],
   "source": [
    "words = [\"apple\", \"banana\", \"cherry\", \"date\", \"fig\"]\n",
    "print(\"Element at index 3:\", words[3])\n"
   ]
  },
  {
   "cell_type": "markdown",
   "id": "534cb394-822e-4fad-a95a-86360258daef",
   "metadata": {},
   "source": [
    "### 29. Write a code to combine two dictionaries into one and print the result."
   ]
  },
  {
   "cell_type": "code",
   "execution_count": 30,
   "id": "1dae8480-9dfc-4f6c-9169-e532dd730d6e",
   "metadata": {},
   "outputs": [
    {
     "name": "stdout",
     "output_type": "stream",
     "text": [
      "{'a': 1, 'b': 2, 'c': 3, 'd': 4}\n"
     ]
    }
   ],
   "source": [
    "dict1 = {\"a\": 1, \"b\": 2}\n",
    "dict2 = {\"c\": 3, \"d\": 4}\n",
    "combined = {**dict1, **dict2}\n",
    "print(combined)\n"
   ]
  },
  {
   "cell_type": "markdown",
   "id": "12793524-daad-42b8-83a8-e19744b4c846",
   "metadata": {},
   "source": [
    "### 30.  Write a code to convert a list of strings into a set."
   ]
  },
  {
   "cell_type": "code",
   "execution_count": null,
   "id": "94f4aa8a-0182-4d5a-8863-654a5a3dfe4f",
   "metadata": {},
   "outputs": [],
   "source": [
    "str_list = [\"name\",\"fame\",\"game\"]\n",
    "s"
   ]
  }
 ],
 "metadata": {
  "kernelspec": {
   "display_name": "Python 3 (ipykernel)",
   "language": "python",
   "name": "python3"
  },
  "language_info": {
   "codemirror_mode": {
    "name": "ipython",
    "version": 3
   },
   "file_extension": ".py",
   "mimetype": "text/x-python",
   "name": "python",
   "nbconvert_exporter": "python",
   "pygments_lexer": "ipython3",
   "version": "3.11.7"
  }
 },
 "nbformat": 4,
 "nbformat_minor": 5
}
