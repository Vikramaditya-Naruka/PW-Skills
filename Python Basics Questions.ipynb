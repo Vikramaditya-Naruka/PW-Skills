{
 "cells": [
  {
   "cell_type": "markdown",
   "id": "dddbcdfc-7ad0-4fda-a476-a40ec1c202b5",
   "metadata": {},
   "source": [
    "#### 1.) What is Python, and why is it popular?\n",
    "\n",
    "\n",
    " Python is a high-level, easy-to-read programming language used for web development, data science, automation, and more.\n",
    " Popular because:\n",
    "\n",
    " 1.) Simple syntax\n",
    "\n",
    " 2.) Large community\n",
    "\n",
    " 3.) Huge library support\n",
    "\n",
    " 4.) Versatile (web, AI, scripting, etc.)\n",
    "\n"
   ]
  },
  {
   "cell_type": "markdown",
   "id": "fae9f699-bd99-4023-8c8d-9da94aaebe1b",
   "metadata": {},
   "source": [
    "#### 2. What is an interpreter in Python?\n",
    "An interpreter reads and runs the Python code line-by-line, converting it to machine code at runtime."
   ]
  },
  {
   "cell_type": "markdown",
   "id": "81966d86-c98c-4d13-b91b-15fe9fa00de7",
   "metadata": {},
   "source": [
    "#### 3. What are pre-defined keywords in Python?\n",
    " These are reserved words that have special meaning, like if, else, for, def, etc.\n",
    "They cannot be used as variable names."
   ]
  },
  {
   "cell_type": "markdown",
   "id": "2367c4aa-8da0-4ff9-a316-b1dc1ed99b0f",
   "metadata": {},
   "source": [
    "#### 4. Can keywords be used as variable names?\n",
    "No, keywords are reserved by the language and using them as variable names will cause a syntax error."
   ]
  },
  {
   "cell_type": "markdown",
   "id": "eb5eb838-52d4-431b-a64b-ef1dee34c0c0",
   "metadata": {},
   "source": [
    "#### 5. What is mutability in Python?\n",
    "Mutability refers to whether an object can be changed after it's created.\n",
    "\n",
    "Mutable: Can be changed (e.g., list)\n",
    "\n",
    "Immutable: Cannot be changed (e.g., tuple, string)"
   ]
  },
  {
   "cell_type": "markdown",
   "id": "2cd3dd6a-b163-421e-9057-48842a8de916",
   "metadata": {},
   "source": [
    "#### 6. Why are lists mutable, but tuples are immutable?\n",
    "Lists are designed to store dynamic data (can grow/shrink). Tuples are used for fixed and safe from changes, which makes them faster and hashable.\n",
    "\n",
    "\n"
   ]
  },
  {
   "cell_type": "markdown",
   "id": "769c17f5-c004-4359-8e80-213b94d310a3",
   "metadata": {},
   "source": [
    "#### 7. What is the difference between == and is operators in Python?\n",
    "\n",
    "== checks value equality (do they contain the same data?)\n",
    "\n",
    "is checks identity (are they the same object in memory?)"
   ]
  },
  {
   "cell_type": "markdown",
   "id": "3b283c76-278d-42f3-b439-7f97d6ada26d",
   "metadata": {},
   "source": [
    "a = [1, 2]; b = [1, 2]  \n",
    "a == b → True  \n",
    "a is b → False\n"
   ]
  },
  {
   "cell_type": "markdown",
   "id": "848d3cc8-c31f-4f26-aacc-fa2aee9e60a3",
   "metadata": {},
   "source": [
    "#### 8. What are logical operators in Python?\n",
    "Logical operators combine boolean expressions:\n",
    "\n",
    "and → True if both are True\n",
    "\n",
    "or → True if at least one is True\n",
    "\n",
    "not → Inverts the truth value"
   ]
  },
  {
   "cell_type": "markdown",
   "id": "8d25add5-f109-4665-aff5-9f9c6f5858a3",
   "metadata": {},
   "source": [
    "#### 9. What is type casting in Python?\n",
    "Type casting means converting one data type into another (e.g., int(\"5\") converts string \"5\" to integer 5)."
   ]
  },
  {
   "cell_type": "markdown",
   "id": "a4646611-b086-484a-9b7f-b1779551c2d5",
   "metadata": {},
   "source": [
    "#### 10. What is the difference between implicit and explicit type casting?\n",
    "\n",
    "Implicit\n",
    ": Python does it automatically.\n",
    "Example: x = 5 + 3.2 → x becomes float\n",
    "\n",
    "Explicit: You do it manually using functions like int(), float(), str()"
   ]
  },
  {
   "cell_type": "markdown",
   "id": "38ac4e9b-3099-4796-a790-35e1668990e3",
   "metadata": {},
   "source": [
    "#### 11. What is the purpose of conditional statements in Python?\n",
    "To run different blocks of code based on different conditions (if, elif, else)."
   ]
  },
  {
   "cell_type": "markdown",
   "id": "ec2a4cc8-1cf0-4400-8663-af929872cf0a",
   "metadata": {},
   "source": [
    "#### 12. How does the elif statement work?\n",
    "elif means \"else if\" — it checks another condition if the previous if or elif was False."
   ]
  },
  {
   "cell_type": "markdown",
   "id": "d85fa2bf-9ba7-4ab4-9f16-d52fc3177002",
   "metadata": {},
   "source": [
    "#### 13. What is the difference between for and while loops?\n",
    "\n",
    "for loop: Used when you know how many times to repeat (e.g., iterating over a list).\n",
    "\n",
    "while loop: Used when the repetition depends on a condition being True."
   ]
  },
  {
   "cell_type": "markdown",
   "id": "ab4884a9-8e26-4222-b7ce-cbe28d078ead",
   "metadata": {},
   "source": [
    "#### 14. Describe a scenario where a while loop is more suitable than a for loop.\n",
    "Example: Asking the user to enter a password until it's correct. You don't know how many tries it will take, so a while loop is ideal.\n",
    "\n"
   ]
  },
  {
   "cell_type": "markdown",
   "id": "4e21433f-9aa0-4230-a44a-046c9534f846",
   "metadata": {},
   "source": [
    "#### 15. Write a Python program to print \"Hello, World!\"\n"
   ]
  },
  {
   "cell_type": "code",
   "execution_count": 6,
   "id": "872fcde6-879b-4d82-a05c-1bea8aa2abbc",
   "metadata": {},
   "outputs": [
    {
     "name": "stdout",
     "output_type": "stream",
     "text": [
      "Hello, World!\n"
     ]
    }
   ],
   "source": [
    "print(\"Hello, World!\")"
   ]
  },
  {
   "cell_type": "markdown",
   "id": "2ca4c104-7c48-4a35-8d84-c46a3f105589",
   "metadata": {},
   "source": [
    "#### 16. Write a Python program that displays your name and age"
   ]
  },
  {
   "cell_type": "code",
   "execution_count": 11,
   "id": "117afe55-6248-4497-8f46-8ceac99e2b10",
   "metadata": {},
   "outputs": [
    {
     "name": "stdout",
     "output_type": "stream",
     "text": [
      "my name is Vikramaditya Singh and my age is 24\n"
     ]
    }
   ],
   "source": [
    "name = \"Vikramaditya Singh\"\n",
    "age = 24\n",
    "print(f\"my name is {name} and my age is {age}\")"
   ]
  },
  {
   "cell_type": "markdown",
   "id": "df21f276-35da-4a00-94b3-96364329b32c",
   "metadata": {},
   "source": [
    "#### 17. Write code to print all the pre-defined keywords in Python using the keyword library."
   ]
  },
  {
   "cell_type": "code",
   "execution_count": 14,
   "id": "bf15320f-a5b3-4105-9e50-17c1ad67e4c8",
   "metadata": {},
   "outputs": [
    {
     "name": "stdout",
     "output_type": "stream",
     "text": [
      "['False', 'None', 'True', 'and', 'as', 'assert', 'async', 'await', 'break', 'class', 'continue', 'def', 'del', 'elif', 'else', 'except', 'finally', 'for', 'from', 'global', 'if', 'import', 'in', 'is', 'lambda', 'nonlocal', 'not', 'or', 'pass', 'raise', 'return', 'try', 'while', 'with', 'yield']\n"
     ]
    }
   ],
   "source": [
    "import keyword \n",
    "print(keyword.kwlist)"
   ]
  },
  {
   "cell_type": "markdown",
   "id": "ba95b96f-9e89-4bf6-a7b3-31e756358fd9",
   "metadata": {},
   "source": [
    "#### 4. Write a program that checks if a given word is a Python keyword."
   ]
  },
  {
   "cell_type": "code",
   "execution_count": 19,
   "id": "7c1c9633-0c3a-434c-b59a-c87a8d0755da",
   "metadata": {},
   "outputs": [
    {
     "name": "stdin",
     "output_type": "stream",
     "text": [
      "enter a word if\n"
     ]
    },
    {
     "name": "stdout",
     "output_type": "stream",
     "text": [
      "this word is python keyword\n"
     ]
    }
   ],
   "source": [
    "import keyword\n",
    "word  = input(\"enter a word\")\n",
    "\n",
    "if keyword.iskeyword(word):\n",
    "    print(f\"this word is python keyword\")\n",
    "else:\n",
    "    print(f\"this word is not python keyword\")\n",
    "    \n",
    "    "
   ]
  },
  {
   "cell_type": "markdown",
   "id": "cd2d810a-d915-4eb5-b300-6ba6f30a8ef2",
   "metadata": {},
   "source": [
    "#### 5. Create a list and tuple in Python, and demonstrate how attempting to change an element works differently for each."
   ]
  },
  {
   "cell_type": "code",
   "execution_count": 24,
   "id": "49cc37c4-48a2-4070-999b-69f09ee2568b",
   "metadata": {},
   "outputs": [
    {
     "name": "stdout",
     "output_type": "stream",
     "text": [
      "[12, 78, 9]\n"
     ]
    },
    {
     "ename": "TypeError",
     "evalue": "'tuple' object does not support item assignment",
     "output_type": "error",
     "traceback": [
      "\u001b[1;31m---------------------------------------------------------------------------\u001b[0m",
      "\u001b[1;31mTypeError\u001b[0m                                 Traceback (most recent call last)",
      "Cell \u001b[1;32mIn[24], line 8\u001b[0m\n\u001b[0;32m      4\u001b[0m New_list[\u001b[38;5;241m1\u001b[39m] \u001b[38;5;241m=\u001b[39m \u001b[38;5;241m78\u001b[39m\n\u001b[0;32m      5\u001b[0m \u001b[38;5;28mprint\u001b[39m(New_list)\n\u001b[1;32m----> 8\u001b[0m New_tuple[\u001b[38;5;241m1\u001b[39m] \u001b[38;5;241m=\u001b[39m \u001b[38;5;241m44\u001b[39m\n\u001b[0;32m      9\u001b[0m Print(New_tuple)\n",
      "\u001b[1;31mTypeError\u001b[0m: 'tuple' object does not support item assignment"
     ]
    }
   ],
   "source": [
    "New_list = [12,7,9]\n",
    "New_tuple = (3,6,7)\n",
    "\n",
    "New_list[1] = 78\n",
    "print(New_list)\n",
    "\n",
    "\n",
    "New_tuple[1] = 44\n",
    "Print(New_tuple)"
   ]
  },
  {
   "cell_type": "markdown",
   "id": "5265a528-d3bc-46e7-80e5-785c20dbb62a",
   "metadata": {},
   "source": [
    "#### 6. Write a function to demonstrate the behavior of mutable and immutable arguments."
   ]
  },
  {
   "cell_type": "code",
   "execution_count": 71,
   "id": "be7c8542-9841-4c0f-aac5-0faa374cafb9",
   "metadata": {},
   "outputs": [
    {
     "name": "stdout",
     "output_type": "stream",
     "text": [
      "Inside function:\n",
      "number = 11\n",
      "my_list = [1, 2, 3, 99]\n",
      "\n",
      "Outside function:\n",
      "a = 10\n",
      "b = [1, 2, 3, 99]\n"
     ]
    }
   ],
   "source": [
    "def demo_change(number, my_list):\n",
    "    number += 1           \n",
    "    my_list.append(99)   \n",
    "    print(\"Inside function:\")\n",
    "    print(\"number =\", number)\n",
    "    print(\"my_list =\", my_list)\n",
    "\n",
    "# Immutable variable (integer)\n",
    "a = 10\n",
    "\n",
    "# Mutable variable (list)\n",
    "b = [1, 2, 3]\n",
    "\n",
    "demo_change(a, b)\n",
    "\n",
    "print(\"\\nOutside function:\")\n",
    "print(\"a =\", a)           # Will NOT change\n",
    "print(\"b =\", b)           # Will change\n"
   ]
  },
  {
   "cell_type": "markdown",
   "id": "f1421ce6-1a92-49a3-9382-59f1dcabe41b",
   "metadata": {},
   "source": [
    "#### 7. Write a program that performs basic arithmetic operations on two user-input numbers."
   ]
  },
  {
   "cell_type": "code",
   "execution_count": 27,
   "id": "2a9c4145-faad-4205-8704-f41ddab29404",
   "metadata": {},
   "outputs": [
    {
     "name": "stdin",
     "output_type": "stream",
     "text": [
      "enter first number 3\n",
      "enter second number 4\n"
     ]
    },
    {
     "name": "stdout",
     "output_type": "stream",
     "text": [
      " The submission of two values is 7\n"
     ]
    }
   ],
   "source": [
    "one = int(input(\"enter first number\"))\n",
    "two = int(input(\"enter second number\"))\n",
    "\n",
    "add = one+two\n",
    "print(f\" The submission of two values is {add}\")"
   ]
  },
  {
   "cell_type": "markdown",
   "id": "bc7abeed-5335-49c8-ac30-b6c10859b025",
   "metadata": {},
   "source": [
    "#### 8. Write a program to demonstrate the use of logical operators."
   ]
  },
  {
   "cell_type": "code",
   "execution_count": 29,
   "id": "f250caa8-067f-40bd-a335-5c3abe1be2b1",
   "metadata": {},
   "outputs": [
    {
     "name": "stdin",
     "output_type": "stream",
     "text": [
      "enter the value 6\n"
     ]
    },
    {
     "name": "stdout",
     "output_type": "stream",
     "text": [
      "The number is Even\n"
     ]
    }
   ],
   "source": [
    "n = int(input(\"enter the value\"))\n",
    "if n>1 & n%2==0:\n",
    "    print(\"The number is Even\")\n",
    "else:\n",
    "    print(\"The number is odd\")"
   ]
  },
  {
   "cell_type": "markdown",
   "id": "314248c3-6c7e-49c0-9e3e-b60adc875679",
   "metadata": {},
   "source": [
    "#### 9. Write a Python program to convert user input from string to integer, float, and boolean types."
   ]
  },
  {
   "cell_type": "code",
   "execution_count": 37,
   "id": "9b378720-2659-493d-8642-41de5d8a42a6",
   "metadata": {},
   "outputs": [
    {
     "name": "stdin",
     "output_type": "stream",
     "text": [
      "Enter The Number.. 4\n"
     ]
    },
    {
     "name": "stdout",
     "output_type": "stream",
     "text": [
      "<class 'str'>\n",
      "The Number is string to integer 4\n",
      "The Number is string to float 4.0\n",
      "The Number is string to boolean True\n"
     ]
    }
   ],
   "source": [
    "n = input(\"Enter The Number..\")\n",
    "print(type(n))\n",
    "\n",
    "print(f\"The Number is string to integer {int(n)}\")\n",
    "print(f\"The Number is string to float {float(n)}\")\n",
    "print(f\"The Number is string to boolean {bool(n)}\")"
   ]
  },
  {
   "cell_type": "markdown",
   "id": "47028168-bb3e-4f5a-b9cf-dae70b199af0",
   "metadata": {},
   "source": [
    "#### 10. Write code to demonstrate type casting with list elements."
   ]
  },
  {
   "cell_type": "code",
   "execution_count": 47,
   "id": "45a1db3f-eca6-4b28-80b0-44e8e819e5ac",
   "metadata": {},
   "outputs": [
    {
     "name": "stdout",
     "output_type": "stream",
     "text": [
      "[11, 22, 32, 4, 5]\n"
     ]
    }
   ],
   "source": [
    "new_list = [\"11\",\"22\",\"32\",\"4\",\"5\"]\n",
    "lst = []\n",
    "for i in range (len(new_list)):\n",
    "    lst.append(int(new_list[i]))\n",
    "print(lst)    "
   ]
  },
  {
   "cell_type": "markdown",
   "id": "15aaaf31-50a3-41f8-84ef-2a3483e7f91d",
   "metadata": {},
   "source": [
    "#### 11. Write a program that checks if a number is positive, negative, or zero"
   ]
  },
  {
   "cell_type": "code",
   "execution_count": 52,
   "id": "1352c76d-aa7f-40ff-9fca-2f25b1d4d5b1",
   "metadata": {},
   "outputs": [
    {
     "name": "stdin",
     "output_type": "stream",
     "text": [
      "Enter The Number... 0\n"
     ]
    },
    {
     "name": "stdout",
     "output_type": "stream",
     "text": [
      "The Number Is Zero\n"
     ]
    }
   ],
   "source": [
    "n = int(input(\"Enter The Number...\"))\n",
    "if n>0:\n",
    "    print(\"The Number Is Positive\")\n",
    "elif(n<0):\n",
    "    print(\"The Number Is Negetive\")\n",
    "else:\n",
    "    print(\"The Number Is Zero\")"
   ]
  },
  {
   "cell_type": "markdown",
   "id": "883a2492-a4db-440e-8be7-ca84da905b5b",
   "metadata": {},
   "source": [
    "#### 12. Write a for loop to print numbers from 1 to 10."
   ]
  },
  {
   "cell_type": "code",
   "execution_count": 57,
   "id": "43ad95db-3a30-4b88-828a-2831ab24a295",
   "metadata": {},
   "outputs": [
    {
     "name": "stdout",
     "output_type": "stream",
     "text": [
      "1\n",
      "2\n",
      "3\n",
      "4\n",
      "5\n",
      "6\n",
      "7\n",
      "8\n",
      "9\n",
      "10\n"
     ]
    }
   ],
   "source": [
    "for i in range(1,11):\n",
    "    print(i )"
   ]
  },
  {
   "cell_type": "markdown",
   "id": "97f05f4f-592d-4382-a19e-f16253e7173d",
   "metadata": {},
   "source": [
    "#### 13. Write a Python program to find the sum of all even numbers between 1 and 50"
   ]
  },
  {
   "cell_type": "code",
   "execution_count": 58,
   "id": "3402f708-d396-419b-9034-2b5dc8277d0c",
   "metadata": {},
   "outputs": [
    {
     "name": "stdout",
     "output_type": "stream",
     "text": [
      "650\n"
     ]
    }
   ],
   "source": [
    "sum = 0\n",
    "for i in range(51):\n",
    "    if i%2==0:\n",
    "        sum +=i\n",
    "    else:\n",
    "        continue\n",
    "print(sum)"
   ]
  },
  {
   "cell_type": "markdown",
   "id": "2d4e2776-3ea5-4e1a-85fa-541b8bcfd350",
   "metadata": {},
   "source": [
    "#### 14. Write a program to reverse a string using a while loop."
   ]
  },
  {
   "cell_type": "code",
   "execution_count": 66,
   "id": "23c538d6-b7fd-4613-8c1c-69a248aeb2d9",
   "metadata": {},
   "outputs": [
    {
     "name": "stdin",
     "output_type": "stream",
     "text": [
      "Enter the String Value vikram\n"
     ]
    },
    {
     "name": "stdout",
     "output_type": "stream",
     "text": [
      "5\n",
      "markiv\n"
     ]
    }
   ],
   "source": [
    "S = input(\"Enter the String Value\")\n",
    "l = len(S)- 1\n",
    "rev_string = \"\"\n",
    "print(l)\n",
    "while(l>= 0):\n",
    "    rev_string += S[l]\n",
    "    l = l-1\n",
    "print(rev_string)\n",
    "    \n",
    "    "
   ]
  },
  {
   "cell_type": "markdown",
   "id": "6f639fd5-a91e-46b6-8320-35fa3f7cd9a0",
   "metadata": {},
   "source": [
    "#### 15. Write a Python program to calculate the factorial of a number provided by the user using a while loop."
   ]
  },
  {
   "cell_type": "code",
   "execution_count": 72,
   "id": "fdc53fcb-6c87-4737-b595-a536b6530f85",
   "metadata": {},
   "outputs": [
    {
     "name": "stdin",
     "output_type": "stream",
     "text": [
      " 5\n"
     ]
    },
    {
     "name": "stdout",
     "output_type": "stream",
     "text": [
      "Factorial of 5 is 120\n"
     ]
    }
   ],
   "source": [
    "n = int(input())\n",
    "N = n\n",
    "fact = 1\n",
    "while (n>0):\n",
    "    fact = fact*n\n",
    "    n -= 1\n",
    "print(f\"Factorial of {N} is {fact}\")"
   ]
  },
  {
   "cell_type": "code",
   "execution_count": null,
   "id": "b811a282-c69a-4d27-972d-91e588c0a540",
   "metadata": {},
   "outputs": [],
   "source": []
  }
 ],
 "metadata": {
  "kernelspec": {
   "display_name": "Python 3 (ipykernel)",
   "language": "python",
   "name": "python3"
  },
  "language_info": {
   "codemirror_mode": {
    "name": "ipython",
    "version": 3
   },
   "file_extension": ".py",
   "mimetype": "text/x-python",
   "name": "python",
   "nbconvert_exporter": "python",
   "pygments_lexer": "ipython3",
   "version": "3.11.7"
  }
 },
 "nbformat": 4,
 "nbformat_minor": 5
}
